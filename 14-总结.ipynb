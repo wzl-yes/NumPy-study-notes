{
 "cells": [
  {
   "cell_type": "markdown",
   "id": "7e1baa40-a745-4c26-b79d-16cf293b49ec",
   "metadata": {},
   "source": [
    "# 导入NumPy包，并起别名。"
   ]
  },
  {
   "cell_type": "code",
   "execution_count": 1,
   "id": "cd00a3fd-a61f-4404-9f55-91b30129fb91",
   "metadata": {},
   "outputs": [],
   "source": [
    "import numpy as np"
   ]
  },
  {
   "cell_type": "markdown",
   "id": "550e3f90-ea73-43e1-9e21-832808a97dd2",
   "metadata": {},
   "source": [
    "# NumPy数组的创建\n",
    "np.array(list)  \n",
    "np.zero(int/tuple)  \n",
    "np.ones(int/tuple)  \n",
    "np.empty(int/tuple)  \n",
    "np.asarray(list)  \n",
    "np.arange(int/start,stop,step)  \n",
    "np.arange(int).reshape(tuple)  \n",
    "np.full(tuple,int)  \n",
    "np.eye(int)"
   ]
  },
  {
   "cell_type": "markdown",
   "id": "8abb2ca7-70a7-409b-bb97-bb5ce0be8707",
   "metadata": {},
   "source": [
    "# NumPy数组的维度和形状\n",
    "array1.ndim  \n",
    "array1.shape"
   ]
  },
  {
   "cell_type": "markdown",
   "id": "072f452e-3d32-419c-8978-59975c5cc654",
   "metadata": {},
   "source": [
    "# NumPy数组元素的数据类型，查看数组数据类型、创建数组并指定数据类型、更改数组数据类型。\n",
    "array1.dtype  \n",
    "np.array(list, dtype=np.float64)  \n",
    "np.array(list, dtype=np.bool)  \n",
    "np.array(list, dtype='<U4')   \n",
    "array1.astype(float)  \n",
    "array1.astype(np.float64)"
   ]
  },
  {
   "cell_type": "markdown",
   "id": "0d43d847-b8f5-4057-8544-11a9115ac426",
   "metadata": {},
   "source": [
    "# NumPy数组之间以及与标量的算数运算、数组之间的比较运算。\n",
    "array1 + array2  \n",
    "array1 - array2  \n",
    "array1 * array2  \n",
    "array1 / array2  \n",
    "1 / array1  \n",
    "array1 ** 2  \n",
    "array1 > array2"
   ]
  },
  {
   "cell_type": "markdown",
   "id": "e627c431-cca5-42e6-8759-6855a8089995",
   "metadata": {},
   "source": [
    "# NumPy数组的索引与切片、赋值、显式复制\n",
    "array1[int]  \n",
    "array1[int : int]  \n",
    "array1[int][int]  \n",
    "array1[int, int]  \n",
    "array1[:int, int:]  \n",
    "array1[:, :int]  \n",
    "array1[int:, int]  \n",
    "array1[int : int] = value/array3  \n",
    "array1[int : int].copy()  "
   ]
  },
  {
   "cell_type": "markdown",
   "id": "f33258c0-8da6-451b-afe6-7a49abfc7dfb",
   "metadata": {},
   "source": [
    "# NumPy数组的布尔索引、赋值\n",
    "array1[array2 == \"cond\"]  \n",
    "array1[array2 == \"cond\", 1:]  \n",
    "array1[array2 == \"cond\", 1]  \n",
    "array1[array2 != \"cond\"]  \n",
    "array1[~(array2 != \"cond\")]  \n",
    "array1[(array2 == \"cond\") | (arrary == \"cond1\")]  \n",
    "array1[(array2 == \"cond\") & (arrary == \"cond1\")]  \n",
    "array4[array4 > 0]  \n",
    "array4[array4 > 0] = value/array3"
   ]
  },
  {
   "cell_type": "markdown",
   "id": "c766b554-3b0c-416e-ad08-6cab6adf1c8e",
   "metadata": {},
   "source": [
    "# NumPy数组的花式索引\n",
    "array1[[int, int]]  \n",
    "array1[[-int, -int]]  \n",
    "array1[[int, int], [int, int]]  \n",
    "array1[[int, int], [:, [int, int]]]  "
   ]
  },
  {
   "cell_type": "markdown",
   "id": "20ca4980-4c4e-479e-b010-c8eade8c3a7e",
   "metadata": {},
   "source": [
    "# NumPy数组的轴交换\n",
    "array1.T  \n",
    "array1.transpose()  \n",
    "array1.swapaxes(0, 1)\n",
    "\n",
    "### 矩阵乘\n",
    "np.dot(array1.T, array1)  \n",
    "array1.T @ array1  \n",
    "\n"
   ]
  },
  {
   "cell_type": "markdown",
   "id": "b4a316cc-e4a4-4990-a0b6-2b8016877c9e",
   "metadata": {},
   "source": [
    "# 数组伪随机数生成\n",
    "rng = np.random.default_rng(seed=int)  \n",
    "rng.standard_normal(tuple)  \n",
    "rng.uniform(size=tuple)  \n",
    "rng.integers(first, end,size=tuple)  \n",
    "rng.shuffle(array1)"
   ]
  },
  {
   "cell_type": "markdown",
   "id": "4b19301f-36c4-4a0f-9940-1106f011f4b2",
   "metadata": {},
   "source": [
    "# NumPy数组的通用函数\n",
    "np.arange(int/start, stop, step)  \n",
    "np.sqrt(array1)  \n",
    "np.exp(array1)  \n",
    "np.maximum(array1, array2)  \n",
    "np.modf(array1)  \n",
    "np.add(array1, value/array3)  \n",
    "np.add(array1, value/array3, out=array2)  \n",
    "np.greater(array1, array2)"
   ]
  },
  {
   "cell_type": "markdown",
   "id": "1e95213b-6e97-4687-8fc6-bc2cdc98a2c2",
   "metadata": {},
   "source": [
    "# 面向NumPy数组的编程\n",
    "np.meshgrid(array1, array2)  \n",
    "np.sqrt(array1 ** 2 + array2 ** 2)  \n",
    "np.where(cond, array1, array2)  \n",
    "np.where(array1 > value, value, array2)  \n",
    "np.where(array1 > value, value, value)  \n",
    "array1.mean()  \n",
    "np.mean(array1)  \n",
    "array1.sum()  \n",
    "array1.mean(axis=0)  \n",
    "array1.mean(axis=1)  \n",
    "array1.sum(axis=0)  \n",
    "array1.sum(axis=1)  \n",
    "array1.cumsum()  \n",
    "array1.cumsum(axis=0)  \n",
    "array1.cumsum(axis=1)  \n",
    "array1.min(axis=1)  \n",
    "array1.argmax()  \n",
    "array1.argmax(axis=1)  \n",
    "(array1 > 0).sum()  \n",
    "(array1 <= 0).sum()  \n",
    "array1.any()  \n",
    "array1.all()  \n",
    "array1.sort()  \n",
    "array1.sort(axis=1)  \n",
    "np.sort(array1)  \n",
    "np.unique(array1)  \n",
    "np.isin(array1, array2)"
   ]
  },
  {
   "cell_type": "markdown",
   "id": "61924bb3-7220-4774-93ad-f1b96b979730",
   "metadata": {},
   "source": [
    "# NumPy数组文件的输入输出\n",
    "np.save(\"filename\", array1)  \n",
    "np.load(\"filename.npy\")  \n",
    "np.savez(\"filename.npz\", key1=array1, key2=array2)  \n",
    "np.savez_compressed(\"filename.npz\", key1=array1, key2=array2)  "
   ]
  },
  {
   "cell_type": "markdown",
   "id": "335cbaf7-7753-42d9-bcaa-5d533c6de0d2",
   "metadata": {},
   "source": [
    "# 线性代数\n",
    "array1.dot(array2)\n",
    "array1 @ array2\n",
    "np.dot(array1,)\n",
    "x @ np.ones(3)\n",
    "X.T @ X"
   ]
  }
 ],
 "metadata": {
  "kernelspec": {
   "display_name": "Python 3 (ipykernel)",
   "language": "python",
   "name": "python3"
  },
  "language_info": {
   "codemirror_mode": {
    "name": "ipython",
    "version": 3
   },
   "file_extension": ".py",
   "mimetype": "text/x-python",
   "name": "python",
   "nbconvert_exporter": "python",
   "pygments_lexer": "ipython3",
   "version": "3.10.15"
  }
 },
 "nbformat": 4,
 "nbformat_minor": 5
}
