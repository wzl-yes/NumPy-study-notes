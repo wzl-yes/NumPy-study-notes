{
 "cells": [
  {
   "cell_type": "markdown",
   "id": "8a8799d5-334f-497a-a272-e345054f3754",
   "metadata": {},
   "source": [
    "# NumPy一维数组的索引切片操作类似于Python列表"
   ]
  },
  {
   "cell_type": "code",
   "execution_count": 1,
   "id": "ad2b0db2-6022-44f5-bc1f-4d735f961dfc",
   "metadata": {},
   "outputs": [],
   "source": [
    "import numpy as np\n",
    "\n",
    "arr = np.arange(10)"
   ]
  },
  {
   "cell_type": "code",
   "execution_count": 2,
   "id": "9e2a9398-c7ce-4516-b3ea-d905cd02671e",
   "metadata": {},
   "outputs": [
    {
     "data": {
      "text/plain": [
       "array([0, 1, 2, 3, 4, 5, 6, 7, 8, 9])"
      ]
     },
     "execution_count": 2,
     "metadata": {},
     "output_type": "execute_result"
    }
   ],
   "source": [
    "arr"
   ]
  },
  {
   "cell_type": "code",
   "execution_count": 3,
   "id": "73f2b862-66fe-4e23-97b8-99c8f70a2f23",
   "metadata": {},
   "outputs": [
    {
     "data": {
      "text/plain": [
       "np.int64(5)"
      ]
     },
     "execution_count": 3,
     "metadata": {},
     "output_type": "execute_result"
    }
   ],
   "source": [
    "arr[5]"
   ]
  },
  {
   "cell_type": "code",
   "execution_count": 4,
   "id": "ea4af9d3-6f7f-4f4d-ba63-ac9fec2041c6",
   "metadata": {},
   "outputs": [
    {
     "data": {
      "text/plain": [
       "array([5, 6, 7])"
      ]
     },
     "execution_count": 4,
     "metadata": {},
     "output_type": "execute_result"
    }
   ],
   "source": [
    "arr[5:8]"
   ]
  },
  {
   "cell_type": "code",
   "execution_count": 5,
   "id": "d44069e7-11c8-4952-b338-8eed9d631949",
   "metadata": {},
   "outputs": [],
   "source": [
    "# arr[5:8]=np.arange(3)"
   ]
  },
  {
   "cell_type": "code",
   "execution_count": 6,
   "id": "8cc04ebc-823f-42dd-8ca6-b0ef61059452",
   "metadata": {},
   "outputs": [],
   "source": [
    "# arr"
   ]
  },
  {
   "cell_type": "markdown",
   "id": "f9093a77-b29d-47b4-a602-0e520b173c38",
   "metadata": {},
   "source": [
    "## 如果为切片分配标量值，则该值将传播（或从此广播）到整个选择\n",
    "NumPy数组与 Python 的内置列表的一个重要区别是数组切片是原始数组上的视图。这意味着数据不会被复制，对视图的任何修改都将反映在源数组中"
   ]
  },
  {
   "cell_type": "code",
   "execution_count": 7,
   "id": "35905893-5b57-4229-82fd-3c323e47006e",
   "metadata": {},
   "outputs": [],
   "source": [
    "arr[5:8] = 12"
   ]
  },
  {
   "cell_type": "code",
   "execution_count": 8,
   "id": "08237ca4-f641-4b48-ba51-a652ac31ae68",
   "metadata": {},
   "outputs": [
    {
     "data": {
      "text/plain": [
       "array([ 0,  1,  2,  3,  4, 12, 12, 12,  8,  9])"
      ]
     },
     "execution_count": 8,
     "metadata": {},
     "output_type": "execute_result"
    }
   ],
   "source": [
    "arr"
   ]
  },
  {
   "cell_type": "code",
   "execution_count": 9,
   "id": "426234b4-a17c-49ec-b1ad-d9e8286fcd5e",
   "metadata": {},
   "outputs": [],
   "source": [
    "arr_slice = arr[5:8]"
   ]
  },
  {
   "cell_type": "code",
   "execution_count": 10,
   "id": "38438471-3bb6-4cf9-b5d1-e2c2a1c93589",
   "metadata": {},
   "outputs": [
    {
     "data": {
      "text/plain": [
       "array([12, 12, 12])"
      ]
     },
     "execution_count": 10,
     "metadata": {},
     "output_type": "execute_result"
    }
   ],
   "source": [
    "arr_slice"
   ]
  },
  {
   "cell_type": "code",
   "execution_count": 11,
   "id": "99367a98-222d-4e7d-a163-5cbcc46c2afe",
   "metadata": {},
   "outputs": [],
   "source": [
    "arr_slice[1] = 12345"
   ]
  },
  {
   "cell_type": "code",
   "execution_count": 12,
   "id": "11e8c8e9-b854-4654-b798-328725848b57",
   "metadata": {},
   "outputs": [
    {
     "data": {
      "text/plain": [
       "array([    0,     1,     2,     3,     4,    12, 12345,    12,     8,\n",
       "           9])"
      ]
     },
     "execution_count": 12,
     "metadata": {},
     "output_type": "execute_result"
    }
   ],
   "source": [
    "arr"
   ]
  },
  {
   "cell_type": "code",
   "execution_count": 13,
   "id": "8cbca7b5-cbc8-46c8-9033-f5d6011e2a7c",
   "metadata": {},
   "outputs": [],
   "source": [
    "arr_slice[:] = 64"
   ]
  },
  {
   "cell_type": "code",
   "execution_count": 14,
   "id": "59eddf8b-ebde-4f93-8328-3a4bc632691c",
   "metadata": {},
   "outputs": [
    {
     "data": {
      "text/plain": [
       "array([ 0,  1,  2,  3,  4, 64, 64, 64,  8,  9])"
      ]
     },
     "execution_count": 14,
     "metadata": {},
     "output_type": "execute_result"
    }
   ],
   "source": [
    "arr"
   ]
  },
  {
   "cell_type": "code",
   "execution_count": 15,
   "id": "bbadf175-21f5-4189-a9fa-d39a8f7f8a93",
   "metadata": {},
   "outputs": [],
   "source": [
    "a=arr_slice"
   ]
  },
  {
   "cell_type": "code",
   "execution_count": 16,
   "id": "9e2d00e4-e49b-4294-b9e3-26e158510f55",
   "metadata": {},
   "outputs": [
    {
     "data": {
      "text/plain": [
       "array([64, 64, 64])"
      ]
     },
     "execution_count": 16,
     "metadata": {},
     "output_type": "execute_result"
    }
   ],
   "source": [
    "arr_slice"
   ]
  },
  {
   "cell_type": "code",
   "execution_count": 17,
   "id": "661610d5-dbe3-4ce3-8662-3cd625be25d2",
   "metadata": {},
   "outputs": [],
   "source": [
    "a=1"
   ]
  },
  {
   "cell_type": "code",
   "execution_count": 18,
   "id": "4c17c6e2-261d-493d-869e-4513b0aea423",
   "metadata": {},
   "outputs": [
    {
     "data": {
      "text/plain": [
       "array([ 0,  1,  2,  3,  4, 64, 64, 64,  8,  9])"
      ]
     },
     "execution_count": 18,
     "metadata": {},
     "output_type": "execute_result"
    }
   ],
   "source": [
    "arr"
   ]
  },
  {
   "cell_type": "markdown",
   "id": "84ed1c47-5bad-49c4-a2d2-4202f4c5e1aa",
   "metadata": {},
   "source": [
    "# 想要得到 ndarray 切片的副本而不是视图，则需要显式复制数组。`数组切片.copy()`"
   ]
  },
  {
   "cell_type": "code",
   "execution_count": 19,
   "id": "ac43b65f-5bd0-4023-b259-2d78bcc28229",
   "metadata": {},
   "outputs": [
    {
     "data": {
      "text/plain": [
       "array([64, 64, 64])"
      ]
     },
     "execution_count": 19,
     "metadata": {},
     "output_type": "execute_result"
    }
   ],
   "source": [
    "arr[5:8].copy()"
   ]
  },
  {
   "cell_type": "markdown",
   "id": "a59a3e53-89f8-4a22-8bd1-4b0c46e6af76",
   "metadata": {},
   "source": [
    "# 在二维数组上索引，每个索引处的元素不再是标量，而是一维数组。\n",
    "在二维数组上进行索引，可以将轴0视为数组的“行”，轴1视为数组的“列”\n",
    "![二维数组索引说明](pda3_0401.png)"
   ]
  },
  {
   "cell_type": "code",
   "execution_count": 20,
   "id": "c4c2c72d-d544-4f1e-b904-81faf97a032a",
   "metadata": {},
   "outputs": [],
   "source": [
    "arr2d = np.array([[1, 2, 3], [4, 5, 6], [7, 8, 9]])"
   ]
  },
  {
   "cell_type": "code",
   "execution_count": 21,
   "id": "7bd33357-945f-4158-8628-302ea1111a77",
   "metadata": {},
   "outputs": [
    {
     "data": {
      "text/plain": [
       "array([[1, 2, 3],\n",
       "       [4, 5, 6],\n",
       "       [7, 8, 9]])"
      ]
     },
     "execution_count": 21,
     "metadata": {},
     "output_type": "execute_result"
    }
   ],
   "source": [
    "arr2d"
   ]
  },
  {
   "cell_type": "code",
   "execution_count": 22,
   "id": "7004b2d6-bf05-4a30-bbec-649cb1db7cfa",
   "metadata": {},
   "outputs": [
    {
     "data": {
      "text/plain": [
       "array([7, 8, 9])"
      ]
     },
     "execution_count": 22,
     "metadata": {},
     "output_type": "execute_result"
    }
   ],
   "source": [
    "arr2d[2]"
   ]
  },
  {
   "cell_type": "markdown",
   "id": "55bd8237-8076-424c-acf2-09e9739ed111",
   "metadata": {},
   "source": [
    "## 通过传递一个逗号分隔的索引列表来选择更低维度的元素。下面两个是等效的。\n",
    "NumPy数组的这种多维索引语法不适用于常规 Python列表。"
   ]
  },
  {
   "cell_type": "code",
   "execution_count": 23,
   "id": "cfa18ea8-e76c-44fa-bd8e-cf9f8e137c61",
   "metadata": {},
   "outputs": [
    {
     "data": {
      "text/plain": [
       "np.int64(3)"
      ]
     },
     "execution_count": 23,
     "metadata": {},
     "output_type": "execute_result"
    }
   ],
   "source": [
    "arr2d[0][2]"
   ]
  },
  {
   "cell_type": "code",
   "execution_count": 24,
   "id": "b3b43f8e-d7a6-4a38-b02c-4ee5eca663b5",
   "metadata": {},
   "outputs": [
    {
     "data": {
      "text/plain": [
       "np.int64(3)"
      ]
     },
     "execution_count": 24,
     "metadata": {},
     "output_type": "execute_result"
    }
   ],
   "source": [
    "arr2d[0, 2]"
   ]
  },
  {
   "cell_type": "markdown",
   "id": "cb11d9ed-a8db-4cc7-b68e-ae4bd5a1e59b",
   "metadata": {},
   "source": [
    "# 在多维数组中，如果省略后面的索引，返回的对象将是一个低维 ndarray，由沿较高维度的所有数据组成。"
   ]
  },
  {
   "cell_type": "code",
   "execution_count": 25,
   "id": "abccf285-4f94-4188-9074-922e9e3d4f37",
   "metadata": {},
   "outputs": [],
   "source": [
    "arr3d = np.array([[[1, 2, 3], [4, 5, 6]], [[7, 8, 9], [10, 11, 12]]])"
   ]
  },
  {
   "cell_type": "code",
   "execution_count": 26,
   "id": "05ec49b2-92a9-49f5-adfd-fff4ca4d763d",
   "metadata": {},
   "outputs": [
    {
     "data": {
      "text/plain": [
       "array([[[ 1,  2,  3],\n",
       "        [ 4,  5,  6]],\n",
       "\n",
       "       [[ 7,  8,  9],\n",
       "        [10, 11, 12]]])"
      ]
     },
     "execution_count": 26,
     "metadata": {},
     "output_type": "execute_result"
    }
   ],
   "source": [
    "arr3d    #2 × 2 × 3 数组"
   ]
  },
  {
   "cell_type": "code",
   "execution_count": 27,
   "id": "f7380cf4-5c94-4b79-91ff-fb33d7ff86e3",
   "metadata": {},
   "outputs": [
    {
     "data": {
      "text/plain": [
       "array([[1, 2, 3],\n",
       "       [4, 5, 6]])"
      ]
     },
     "execution_count": 27,
     "metadata": {},
     "output_type": "execute_result"
    }
   ],
   "source": [
    "arr3d[0]    #2 × 3 数组"
   ]
  },
  {
   "cell_type": "markdown",
   "id": "b1600e80-dcdf-41b5-be1a-eb65496d467b",
   "metadata": {},
   "source": [
    "## 既可以赋值标量值，也可以赋值数组(注意数组的的维度和形状应该与切片产生的数组一样)。"
   ]
  },
  {
   "cell_type": "code",
   "execution_count": 28,
   "id": "e145ad34-92cd-464e-bdd9-6162687b9500",
   "metadata": {},
   "outputs": [],
   "source": [
    "old_values = arr3d[0].copy()"
   ]
  },
  {
   "cell_type": "code",
   "execution_count": 29,
   "id": "509c192c-11d3-492e-b0cc-8cc084e8c9c1",
   "metadata": {},
   "outputs": [],
   "source": [
    "arr3d[0] = 42"
   ]
  },
  {
   "cell_type": "code",
   "execution_count": 30,
   "id": "45158dde-feb1-4b36-9a4a-1e68edd70f1e",
   "metadata": {},
   "outputs": [
    {
     "data": {
      "text/plain": [
       "array([[[42, 42, 42],\n",
       "        [42, 42, 42]],\n",
       "\n",
       "       [[ 7,  8,  9],\n",
       "        [10, 11, 12]]])"
      ]
     },
     "execution_count": 30,
     "metadata": {},
     "output_type": "execute_result"
    }
   ],
   "source": [
    "arr3d"
   ]
  },
  {
   "cell_type": "code",
   "execution_count": 31,
   "id": "364a7ca3-6371-40e9-b858-cfe17761effb",
   "metadata": {},
   "outputs": [],
   "source": [
    "arr3d[0] = old_values"
   ]
  },
  {
   "cell_type": "code",
   "execution_count": 32,
   "id": "4606463d-179e-4499-8a75-3027c60afab7",
   "metadata": {},
   "outputs": [
    {
     "data": {
      "text/plain": [
       "array([[[ 1,  2,  3],\n",
       "        [ 4,  5,  6]],\n",
       "\n",
       "       [[ 7,  8,  9],\n",
       "        [10, 11, 12]]])"
      ]
     },
     "execution_count": 32,
     "metadata": {},
     "output_type": "execute_result"
    }
   ],
   "source": [
    "arr3d"
   ]
  },
  {
   "cell_type": "code",
   "execution_count": 33,
   "id": "aa4b92a0-6249-409f-b5e9-e69617a42007",
   "metadata": {},
   "outputs": [],
   "source": [
    "# arr3d[0] = np.full((2,3),0)"
   ]
  },
  {
   "cell_type": "code",
   "execution_count": 34,
   "id": "9ec3421f-b582-433a-9e3d-b4eca4e0b2d3",
   "metadata": {},
   "outputs": [],
   "source": [
    "# arr3d"
   ]
  },
  {
   "cell_type": "code",
   "execution_count": 35,
   "id": "4446a5f0-c321-4fd1-b12f-00f2b94cd042",
   "metadata": {},
   "outputs": [],
   "source": [
    "# arr3d[0] = np.zeros((2,3))"
   ]
  },
  {
   "cell_type": "code",
   "execution_count": 36,
   "id": "6c4f6585-c916-4b6d-a702-4c60ee87622d",
   "metadata": {},
   "outputs": [],
   "source": [
    "# arr3d"
   ]
  },
  {
   "cell_type": "markdown",
   "id": "536417ca-79bf-4421-9b60-a25dff468b7a",
   "metadata": {},
   "source": [
    "## 通过索引列表获得一个一维数组\n",
    "注意返回的数组都是视图"
   ]
  },
  {
   "cell_type": "code",
   "execution_count": 37,
   "id": "42f6b873-afbc-424a-bfa8-34259da41e97",
   "metadata": {},
   "outputs": [
    {
     "data": {
      "text/plain": [
       "array([7, 8, 9])"
      ]
     },
     "execution_count": 37,
     "metadata": {},
     "output_type": "execute_result"
    }
   ],
   "source": [
    "arr3d[1, 0]"
   ]
  },
  {
   "cell_type": "code",
   "execution_count": 43,
   "id": "b892f201-b570-4267-8397-1a8ed7a5886d",
   "metadata": {},
   "outputs": [],
   "source": [
    "x = arr3d[1]    #上面通过索引列表与这里分两步进行索引是相同的"
   ]
  },
  {
   "cell_type": "code",
   "execution_count": 44,
   "id": "4973659a-b4e3-4a7b-aaea-29b70d4e2045",
   "metadata": {},
   "outputs": [
    {
     "data": {
      "text/plain": [
       "array([[ 7,  8,  9],\n",
       "       [10, 11, 12]])"
      ]
     },
     "execution_count": 44,
     "metadata": {},
     "output_type": "execute_result"
    }
   ],
   "source": [
    "x"
   ]
  },
  {
   "cell_type": "code",
   "execution_count": 45,
   "id": "f2684ab4-5393-46c8-b4b6-ebdd4188ce00",
   "metadata": {},
   "outputs": [
    {
     "data": {
      "text/plain": [
       "array([7, 8, 9])"
      ]
     },
     "execution_count": 45,
     "metadata": {},
     "output_type": "execute_result"
    }
   ],
   "source": [
    "x[0]"
   ]
  },
  {
   "cell_type": "markdown",
   "id": "cb37cb40-25ad-4abb-bff9-240c0eb82c0e",
   "metadata": {},
   "source": [
    "# NumPy一维数组切片语法与Python一维列表切片语法一样。"
   ]
  },
  {
   "cell_type": "code",
   "execution_count": 46,
   "id": "21c2df36-3a2c-42ce-8437-a1d02d12af81",
   "metadata": {},
   "outputs": [
    {
     "data": {
      "text/plain": [
       "array([ 0,  1,  2,  3,  4, 64, 64, 64,  8,  9])"
      ]
     },
     "execution_count": 46,
     "metadata": {},
     "output_type": "execute_result"
    }
   ],
   "source": [
    "arr"
   ]
  },
  {
   "cell_type": "code",
   "execution_count": 47,
   "id": "4cabc0ef-9607-4269-a011-c81ed78b89e8",
   "metadata": {},
   "outputs": [
    {
     "data": {
      "text/plain": [
       "array([ 1,  2,  3,  4, 64])"
      ]
     },
     "execution_count": 47,
     "metadata": {},
     "output_type": "execute_result"
    }
   ],
   "source": [
    "arr[1:6]"
   ]
  },
  {
   "cell_type": "markdown",
   "id": "f957bc28-bba3-44ca-be01-acf203b7ce83",
   "metadata": {},
   "source": [
    "# 对于NumPy二维数组进行切片有点不同。\n",
    "切片操作是沿着某个轴选择一系列元素"
   ]
  },
  {
   "cell_type": "code",
   "execution_count": 48,
   "id": "44ce75d8-43d2-4161-a80c-c8ab8ff4c43e",
   "metadata": {},
   "outputs": [
    {
     "data": {
      "text/plain": [
       "array([[1, 2, 3],\n",
       "       [4, 5, 6],\n",
       "       [7, 8, 9]])"
      ]
     },
     "execution_count": 48,
     "metadata": {},
     "output_type": "execute_result"
    }
   ],
   "source": [
    "arr2d"
   ]
  },
  {
   "cell_type": "code",
   "execution_count": 49,
   "id": "970821c8-1062-4226-ab52-6960c373b68b",
   "metadata": {},
   "outputs": [
    {
     "data": {
      "text/plain": [
       "array([[1, 2, 3],\n",
       "       [4, 5, 6]])"
      ]
     },
     "execution_count": 49,
     "metadata": {},
     "output_type": "execute_result"
    }
   ],
   "source": [
    "arr2d[:2]"
   ]
  },
  {
   "cell_type": "markdown",
   "id": "0f29c6c5-dbd1-49f2-b930-71c338bb38c1",
   "metadata": {},
   "source": [
    "## 可以传递多个切片\n",
    "像这样切片时，总是获得相同维数的数组视图"
   ]
  },
  {
   "cell_type": "code",
   "execution_count": 56,
   "id": "fdf5bdb7-1b15-4fa7-8487-86f7a3e45df5",
   "metadata": {},
   "outputs": [
    {
     "data": {
      "text/plain": [
       "array([[2, 3],\n",
       "       [5, 6]])"
      ]
     },
     "execution_count": 56,
     "metadata": {},
     "output_type": "execute_result"
    }
   ],
   "source": [
    "arr2d[:2, 1:]"
   ]
  },
  {
   "cell_type": "markdown",
   "id": "1c0c8f3d-f63a-4ac3-ab52-e4e990dae1ed",
   "metadata": {},
   "source": [
    "# 混合整数索引和切片，可以获得低维切片"
   ]
  },
  {
   "cell_type": "code",
   "execution_count": 57,
   "id": "d3402c1f-540d-4c69-a27b-66bbf787dca5",
   "metadata": {},
   "outputs": [],
   "source": [
    "lower_dim_slice = arr2d[1, :2]"
   ]
  },
  {
   "cell_type": "code",
   "execution_count": 58,
   "id": "95a4a5ab-4968-41e5-a8c0-229ea27ff145",
   "metadata": {},
   "outputs": [
    {
     "data": {
      "text/plain": [
       "(2,)"
      ]
     },
     "execution_count": 58,
     "metadata": {},
     "output_type": "execute_result"
    }
   ],
   "source": [
    "lower_dim_slice.shape    #虽然（前者）是二维的，但（后者）是一维的，并且它的形状是一个具有一个轴大小的元组"
   ]
  },
  {
   "cell_type": "code",
   "execution_count": 61,
   "id": "8dc577ad-f92f-4045-93d2-b913eddcba1a",
   "metadata": {},
   "outputs": [
    {
     "data": {
      "text/plain": [
       "array([4, 5])"
      ]
     },
     "execution_count": 61,
     "metadata": {},
     "output_type": "execute_result"
    }
   ],
   "source": [
    "lower_dim_slice"
   ]
  },
  {
   "cell_type": "code",
   "execution_count": 62,
   "id": "8c15f28d-9439-4f0a-93e3-2ccbdd06e113",
   "metadata": {},
   "outputs": [
    {
     "data": {
      "text/plain": [
       "array([3, 6])"
      ]
     },
     "execution_count": 62,
     "metadata": {},
     "output_type": "execute_result"
    }
   ],
   "source": [
    "arr2d[:2, 2]"
   ]
  },
  {
   "cell_type": "markdown",
   "id": "53b5533b-781e-4d0d-b33d-2377cf131eaa",
   "metadata": {},
   "source": [
    "## 冒号本身的意思是取整个轴"
   ]
  },
  {
   "cell_type": "code",
   "execution_count": 63,
   "id": "01e3af67-fa53-4861-9b62-ff4e0094f4bb",
   "metadata": {},
   "outputs": [
    {
     "data": {
      "text/plain": [
       "array([[1],\n",
       "       [4],\n",
       "       [7]])"
      ]
     },
     "execution_count": 63,
     "metadata": {},
     "output_type": "execute_result"
    }
   ],
   "source": [
    "arr2d[:, :1]"
   ]
  },
  {
   "cell_type": "markdown",
   "id": "84c62796-8131-40a9-ac32-92e9fd5a262a",
   "metadata": {},
   "source": [
    "# 对切片表达式进行赋值实际上是对整个所选范围进行赋值"
   ]
  },
  {
   "cell_type": "code",
   "execution_count": 64,
   "id": "2dda5fcf-573e-4cf9-a23d-f7b84d3e66c5",
   "metadata": {},
   "outputs": [],
   "source": [
    "arr2d[:2, 1:] = 0"
   ]
  },
  {
   "cell_type": "code",
   "execution_count": 65,
   "id": "996fa523-8b5d-4b8c-b7ff-17d095c437bb",
   "metadata": {},
   "outputs": [
    {
     "data": {
      "text/plain": [
       "array([[1, 0, 0],\n",
       "       [4, 0, 0],\n",
       "       [7, 8, 9]])"
      ]
     },
     "execution_count": 65,
     "metadata": {},
     "output_type": "execute_result"
    }
   ],
   "source": [
    "arr2d"
   ]
  },
  {
   "attachments": {},
   "cell_type": "markdown",
   "id": "d679528d-75ef-4031-9784-67411084a8a4",
   "metadata": {},
   "source": [
    "# 二维数组切片\n",
    "![二维数组切片](pda3_0402.png)"
   ]
  },
  {
   "cell_type": "code",
   "execution_count": null,
   "id": "84e6e158-b252-49d6-916f-ec7bf44162ca",
   "metadata": {},
   "outputs": [],
   "source": []
  }
 ],
 "metadata": {
  "kernelspec": {
   "display_name": "Python 3 (ipykernel)",
   "language": "python",
   "name": "python3"
  },
  "language_info": {
   "codemirror_mode": {
    "name": "ipython",
    "version": 3
   },
   "file_extension": ".py",
   "mimetype": "text/x-python",
   "name": "python",
   "nbconvert_exporter": "python",
   "pygments_lexer": "ipython3",
   "version": "3.10.15"
  }
 },
 "nbformat": 4,
 "nbformat_minor": 5
}
