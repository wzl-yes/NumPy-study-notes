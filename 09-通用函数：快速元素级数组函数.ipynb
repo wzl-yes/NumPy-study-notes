{
 "cells": [
  {
   "cell_type": "markdown",
   "id": "6cce38f7-0819-4683-adb0-2d7c7b1299cb",
   "metadata": {},
   "source": [
    "# 通用函数 （ufunc） 是对 ndarray 中的数据执行元素运算的函数，函数接收一个或多个标量值，并生成一个或多个标量值的结果。"
   ]
  },
  {
   "cell_type": "code",
   "execution_count": 1,
   "id": "55c5f603-e6db-4f42-819f-52e8cfa42db9",
   "metadata": {},
   "outputs": [],
   "source": [
    "import numpy as np\n",
    "\n",
    "arr = np.arange(10)"
   ]
  },
  {
   "cell_type": "code",
   "execution_count": 2,
   "id": "e3cdd235-0027-4226-8454-917859686a48",
   "metadata": {},
   "outputs": [
    {
     "data": {
      "text/plain": [
       "array([0, 1, 2, 3, 4, 5, 6, 7, 8, 9])"
      ]
     },
     "execution_count": 2,
     "metadata": {},
     "output_type": "execute_result"
    }
   ],
   "source": [
    "arr"
   ]
  },
  {
   "cell_type": "markdown",
   "id": "9afe6a32-6f30-4ab9-b7cb-cd1a4fc60246",
   "metadata": {},
   "source": [
    "# 一元ufuncs    `np.sqrt(数组)、np.exp(数组)......`\n",
    "一元ufuncs是指那些只接受一个数组作为输入，并返回另一个数组作为输出的ufuncs。"
   ]
  },
  {
   "cell_type": "code",
   "execution_count": 3,
   "id": "7706ab3d-2201-4412-8e04-74b6479a1b8b",
   "metadata": {},
   "outputs": [
    {
     "data": {
      "text/plain": [
       "array([0.        , 1.        , 1.41421356, 1.73205081, 2.        ,\n",
       "       2.23606798, 2.44948974, 2.64575131, 2.82842712, 3.        ])"
      ]
     },
     "execution_count": 3,
     "metadata": {},
     "output_type": "execute_result"
    }
   ],
   "source": [
    "np.sqrt(arr)    # 计算数组 arr 中每个元素的平方根"
   ]
  },
  {
   "cell_type": "code",
   "execution_count": 4,
   "id": "68c8fbec-784e-4e9a-8f2f-180220efed3f",
   "metadata": {},
   "outputs": [
    {
     "data": {
      "text/plain": [
       "array([1.00000000e+00, 2.71828183e+00, 7.38905610e+00, 2.00855369e+01,\n",
       "       5.45981500e+01, 1.48413159e+02, 4.03428793e+02, 1.09663316e+03,\n",
       "       2.98095799e+03, 8.10308393e+03])"
      ]
     },
     "execution_count": 4,
     "metadata": {},
     "output_type": "execute_result"
    }
   ],
   "source": [
    "np.exp(arr)    # 对数组中的每个元素进行指数运算"
   ]
  },
  {
   "cell_type": "markdown",
   "id": "64357769-f2d4-4fe4-836b-1ccc7c5b802e",
   "metadata": {},
   "source": [
    "# 二元ufuncs    `np.maximum(数组1, 数组2)......`\n",
    "二元ufuncs是指那些接受两个数组作为输入，并返回一个数组作为输出的ufuncs。"
   ]
  },
  {
   "cell_type": "code",
   "execution_count": 5,
   "id": "de4c6954-89df-4221-8209-674d18241ef4",
   "metadata": {},
   "outputs": [],
   "source": [
    "rng = np.random.default_rng(seed=12345)"
   ]
  },
  {
   "cell_type": "code",
   "execution_count": 6,
   "id": "59ecf909-a068-4b00-9bdb-4f06b86be38c",
   "metadata": {},
   "outputs": [],
   "source": [
    "x = rng.standard_normal(8)"
   ]
  },
  {
   "cell_type": "code",
   "execution_count": 7,
   "id": "6a2ff6f9-8928-4a21-b1f9-e37cc6e2a9a5",
   "metadata": {},
   "outputs": [],
   "source": [
    "y = rng.standard_normal(8)"
   ]
  },
  {
   "cell_type": "code",
   "execution_count": 8,
   "id": "7c21f70e-ff58-4e4d-84f8-ebdd4ece642e",
   "metadata": {},
   "outputs": [
    {
     "data": {
      "text/plain": [
       "array([-1.42382504,  1.26372846, -0.87066174, -0.25917323, -0.07534331,\n",
       "       -0.74088465, -1.3677927 ,  0.6488928 ])"
      ]
     },
     "execution_count": 8,
     "metadata": {},
     "output_type": "execute_result"
    }
   ],
   "source": [
    "x"
   ]
  },
  {
   "cell_type": "code",
   "execution_count": 9,
   "id": "22d26cb5-c6cd-4268-ba35-ca77f5778222",
   "metadata": {},
   "outputs": [
    {
     "data": {
      "text/plain": [
       "array([ 0.36105811, -1.95286306,  2.34740965,  0.96849691, -0.75938718,\n",
       "        0.90219827, -0.46695317, -0.06068952])"
      ]
     },
     "execution_count": 9,
     "metadata": {},
     "output_type": "execute_result"
    }
   ],
   "source": [
    "y"
   ]
  },
  {
   "cell_type": "code",
   "execution_count": 10,
   "id": "bfc710e3-8406-4891-8c97-ea1263357d1b",
   "metadata": {},
   "outputs": [
    {
     "data": {
      "text/plain": [
       "array([ 0.36105811,  1.26372846,  2.34740965,  0.96849691, -0.07534331,\n",
       "        0.90219827, -0.46695317,  0.6488928 ])"
      ]
     },
     "execution_count": 10,
     "metadata": {},
     "output_type": "execute_result"
    }
   ],
   "source": [
    "np.maximum(x, y)    # np.maximum计算了x和y中元素级别最大的元素"
   ]
  },
  {
   "cell_type": "markdown",
   "id": "194f12ae-8a45-4771-920d-b1515d9d1a03",
   "metadata": {},
   "source": [
    "# 虽然不常见，一个通用函数（ufunc）可以返回多个数组。`numpy.modf(数组)`就是一个例子：它是Python内置函数`modf`的向量化版本，它返回一个浮点数组的分数部分和整数部分。"
   ]
  },
  {
   "cell_type": "code",
   "execution_count": 11,
   "id": "17fc4632-be45-4296-9d53-4ea8d8eae7a6",
   "metadata": {},
   "outputs": [],
   "source": [
    "arr = rng.standard_normal(7) * 5"
   ]
  },
  {
   "cell_type": "code",
   "execution_count": 12,
   "id": "610c30ad-0af4-495e-9cca-041cd63140bb",
   "metadata": {},
   "outputs": [
    {
     "data": {
      "text/plain": [
       "array([ 3.94422172, -6.28334067,  2.87928757,  6.99489497,  6.6114903 ,\n",
       "       -1.49849258,  4.51459671])"
      ]
     },
     "execution_count": 12,
     "metadata": {},
     "output_type": "execute_result"
    }
   ],
   "source": [
    "arr"
   ]
  },
  {
   "cell_type": "code",
   "execution_count": 13,
   "id": "51100349-017f-4c5d-8a47-eda8088374cd",
   "metadata": {},
   "outputs": [],
   "source": [
    "remainder, whole_part = np.modf(arr)"
   ]
  },
  {
   "cell_type": "code",
   "execution_count": 14,
   "id": "31474a77-2273-405c-964c-bd8a88776d87",
   "metadata": {},
   "outputs": [
    {
     "data": {
      "text/plain": [
       "(array([ 0.94422172, -0.28334067,  0.87928757,  0.99489497,  0.6114903 ,\n",
       "        -0.49849258,  0.51459671]),\n",
       " array([ 3., -6.,  2.,  6.,  6., -1.,  4.]))"
      ]
     },
     "execution_count": 14,
     "metadata": {},
     "output_type": "execute_result"
    }
   ],
   "source": [
    "np.modf(arr)"
   ]
  },
  {
   "cell_type": "code",
   "execution_count": 15,
   "id": "f60449d4-2b5e-4b9d-893b-880ffe680252",
   "metadata": {},
   "outputs": [
    {
     "data": {
      "text/plain": [
       "array([ 0.94422172, -0.28334067,  0.87928757,  0.99489497,  0.6114903 ,\n",
       "       -0.49849258,  0.51459671])"
      ]
     },
     "execution_count": 15,
     "metadata": {},
     "output_type": "execute_result"
    }
   ],
   "source": [
    "remainder"
   ]
  },
  {
   "cell_type": "code",
   "execution_count": 16,
   "id": "4ace7569-1963-4bd9-9c4c-88fb8a32783e",
   "metadata": {},
   "outputs": [
    {
     "data": {
      "text/plain": [
       "array([ 3., -6.,  2.,  6.,  6., -1.,  4.])"
      ]
     },
     "execution_count": 16,
     "metadata": {},
     "output_type": "execute_result"
    }
   ],
   "source": [
    "whole_part"
   ]
  },
  {
   "cell_type": "markdown",
   "id": "f25b69b0-cd2e-451d-9f63-01dd3557be21",
   "metadata": {},
   "source": [
    "# 通用函数（ufunc）接受一个可选参数，该参数允许它们将结果赋值到现有数组中，而不是创建一个新数组。"
   ]
  },
  {
   "cell_type": "code",
   "execution_count": 17,
   "id": "bf4bb383-6dcd-4dac-81e1-554303a3d370",
   "metadata": {},
   "outputs": [
    {
     "data": {
      "text/plain": [
       "array([ 3.94422172, -6.28334067,  2.87928757,  6.99489497,  6.6114903 ,\n",
       "       -1.49849258,  4.51459671])"
      ]
     },
     "execution_count": 17,
     "metadata": {},
     "output_type": "execute_result"
    }
   ],
   "source": [
    "arr"
   ]
  },
  {
   "cell_type": "code",
   "execution_count": 18,
   "id": "2127a335-3adf-464b-99fa-9886dcbe3d75",
   "metadata": {},
   "outputs": [],
   "source": [
    "out = np.zeros_like(arr)"
   ]
  },
  {
   "cell_type": "code",
   "execution_count": 19,
   "id": "b40aaebd-77d4-4b38-96c9-6b4dd5813846",
   "metadata": {},
   "outputs": [
    {
     "data": {
      "text/plain": [
       "array([0., 0., 0., 0., 0., 0., 0.])"
      ]
     },
     "execution_count": 19,
     "metadata": {},
     "output_type": "execute_result"
    }
   ],
   "source": [
    "out"
   ]
  },
  {
   "cell_type": "code",
   "execution_count": 20,
   "id": "c5c4adca-f5c7-4fe0-8446-bcb1e7795148",
   "metadata": {},
   "outputs": [
    {
     "data": {
      "text/plain": [
       "array([ 4.94422172, -5.28334067,  3.87928757,  7.99489497,  7.6114903 ,\n",
       "       -0.49849258,  5.51459671])"
      ]
     },
     "execution_count": 20,
     "metadata": {},
     "output_type": "execute_result"
    }
   ],
   "source": [
    "np.add(arr, 1)"
   ]
  },
  {
   "cell_type": "code",
   "execution_count": 21,
   "id": "b6736fe6-d401-4505-9c55-5953945ad2bb",
   "metadata": {},
   "outputs": [
    {
     "data": {
      "text/plain": [
       "array([ 4.94422172, -5.28334067,  3.87928757,  7.99489497,  7.6114903 ,\n",
       "       -0.49849258,  5.51459671])"
      ]
     },
     "execution_count": 21,
     "metadata": {},
     "output_type": "execute_result"
    }
   ],
   "source": [
    "np.add(arr, 1, out=out)"
   ]
  },
  {
   "cell_type": "code",
   "execution_count": 22,
   "id": "5ea1752f-cbcc-4573-91ae-271a6ed63b9b",
   "metadata": {},
   "outputs": [
    {
     "data": {
      "text/plain": [
       "array([ 4.94422172, -5.28334067,  3.87928757,  7.99489497,  7.6114903 ,\n",
       "       -0.49849258,  5.51459671])"
      ]
     },
     "execution_count": 22,
     "metadata": {},
     "output_type": "execute_result"
    }
   ],
   "source": [
    "out"
   ]
  },
  {
   "cell_type": "markdown",
   "id": "8ef923b4-86d4-415b-972a-89917fcede8f",
   "metadata": {},
   "source": [
    "# 列出了一些NumPy的一元ufunc和二元ufunc如下"
   ]
  },
  {
   "cell_type": "markdown",
   "id": "37671e7a-d7c5-4092-8633-06fa7c35feb2",
   "metadata": {},
   "source": [
    "# 一些一元通用函数\n",
    "\n",
    "| 功能 | 描述 |\n",
    "|-------|-------|\n",
    "| abs, fabs | 逐元素地计算整数、浮点数或复数的绝对值 |\n",
    "| sqrt | 计算各元素的平方根，等价于arr**0.5 |\n",
    "| square | 计算各元素的平方，等价于arr **2 |\n",
    "| exp | 计算各元素的自然指数$e^x$ |\n",
    "| log, log10, log2, log1p | 分别为自然对数(底数为e)、底数为10的对数、底数为2的对数和 log(1+x) |\n",
    "| sign | 计算各元素的符号:1(正数)、0(零)、-1(负数) |\n",
    "| ceil | 计算各元素的最大整数值，即大于等于该值的最小整数 |\n",
    "| floor | 计算各元素的最小整数值，即小于等于该值的最大整数 |\n",
    "| rint | 将各元素值四舍五入到最接近的整数，保留 dtype |\n",
    "| modf | 将数组的小数部分和整数部分以两个独立数组的形式返回 |\n",
    "| isnan | 返回表示“哪些值是 NaN(不是一个数值)”的布尔型数组 |\n",
    "| isfinite, isinf | 分别返回表示“哪些元素是有限的(非inf，非 NaN)”和“哪些元素是无限的”的布尔型数组 |\n",
    "| cos, cosh, sin, sinh, tan, tanh | 正则三角函数和双曲三角函数 |\n",
    "| arccos, arccosh, arcsin, arcsinh, arctan, arctanh | 反三角函数 |\n",
    "| logical_not | 对数组的元素按位取反，等价于~arr |\n",
    "\n",
    "\n",
    "# 一些二元通用函数\n",
    "\n",
    "| 功能 | 描述 |\n",
    "|-------|-------|\n",
    "| add | 在数组中添加相应的元素 |\n",
    "| subtract | 从第一个数组的元素中减去第二个数组的元素 |\n",
    "| multiply | 将数组中对应的元素相乘 |\n",
    "| divide, floor_divide | 除或整除(截断余数) |\n",
    "| power | 第一个数组中的各元素以第二个数组中的相应元素做幂次方 |\n",
    "| maximum, fmax | 逐个元素计算最大值，fmax忽略NaN |\n",
    "| minimum, fmin | 逐个元素计算最小值，fmin 忽略NaN |\n",
    "| mod | 元素级的求模计算(除法的余数) |\n",
    "| copysign | 将第二个数组中元素值的符号复制给第一个数组中的元素 |\n",
    "| greater, greater_equal, less, <br>less_equal, equal, not_equal | 执行元素级的比较运算，返回布尔型数组。<br>相当于中缀运算符 >、>=、<、<=、==、!= |\n",
    "| logical_and | 执行元素级的逻辑与(&)运算 |\n",
    "| logical_or | 执行元素级的逻辑或($|$)运算 |\n",
    "| logical_xor | 执行元素级的逻辑异或(^)运算 |\n"
   ]
  },
  {
   "cell_type": "code",
   "execution_count": 23,
   "id": "2fbef34d-e808-4906-b335-5df592b8582f",
   "metadata": {},
   "outputs": [],
   "source": [
    "rng = np.random.default_rng(seed=12345)\n",
    "\n",
    "arr1 = rng.integers(1,10,size=(4,5))\n",
    "\n",
    "arr2 = rng.integers(1,10,size=(4,5))"
   ]
  },
  {
   "cell_type": "code",
   "execution_count": 24,
   "id": "45b04cf0-46df-49c9-b603-04dfc61a4ebd",
   "metadata": {},
   "outputs": [
    {
     "data": {
      "text/plain": [
       "array([[7, 3, 8, 3, 2],\n",
       "       [8, 6, 7, 9, 4],\n",
       "       [8, 3, 6, 6, 2],\n",
       "       [2, 3, 7, 6, 9]])"
      ]
     },
     "execution_count": 24,
     "metadata": {},
     "output_type": "execute_result"
    }
   ],
   "source": [
    "arr1"
   ]
  },
  {
   "cell_type": "code",
   "execution_count": 25,
   "id": "32e30998-ecce-4a47-80f7-324e5130b3e3",
   "metadata": {},
   "outputs": [
    {
     "data": {
      "text/plain": [
       "array([[7, 3, 9, 9, 7],\n",
       "       [7, 2, 1, 3, 4],\n",
       "       [1, 8, 5, 7, 2],\n",
       "       [3, 2, 7, 7, 2]])"
      ]
     },
     "execution_count": 25,
     "metadata": {},
     "output_type": "execute_result"
    }
   ],
   "source": [
    "arr2"
   ]
  },
  {
   "cell_type": "code",
   "execution_count": 26,
   "id": "742d7dc7-c60c-45ef-98c0-b72cd83648cb",
   "metadata": {},
   "outputs": [
    {
     "data": {
      "text/plain": [
       "array([[49,  9, 64,  9,  4],\n",
       "       [64, 36, 49, 81, 16],\n",
       "       [64,  9, 36, 36,  4],\n",
       "       [ 4,  9, 49, 36, 81]])"
      ]
     },
     "execution_count": 26,
     "metadata": {},
     "output_type": "execute_result"
    }
   ],
   "source": [
    "np.square(arr1)"
   ]
  },
  {
   "cell_type": "code",
   "execution_count": 27,
   "id": "a6d4a9a0-7c5c-4679-bf60-0f799e752157",
   "metadata": {},
   "outputs": [
    {
     "data": {
      "text/plain": [
       "array([[14,  6, 17, 12,  9],\n",
       "       [15,  8,  8, 12,  8],\n",
       "       [ 9, 11, 11, 13,  4],\n",
       "       [ 5,  5, 14, 13, 11]])"
      ]
     },
     "execution_count": 27,
     "metadata": {},
     "output_type": "execute_result"
    }
   ],
   "source": [
    "np.add(arr1,arr2)"
   ]
  },
  {
   "cell_type": "code",
   "execution_count": 28,
   "id": "ff07babb-52f7-4254-a248-79d91c2ee9f4",
   "metadata": {},
   "outputs": [
    {
     "data": {
      "text/plain": [
       "array([[7, 3, 9, 9, 7],\n",
       "       [8, 6, 7, 9, 4],\n",
       "       [8, 8, 6, 7, 2],\n",
       "       [3, 3, 7, 7, 9]])"
      ]
     },
     "execution_count": 28,
     "metadata": {},
     "output_type": "execute_result"
    }
   ],
   "source": [
    "np.maximum(arr1,arr2)"
   ]
  },
  {
   "cell_type": "code",
   "execution_count": 29,
   "id": "254fed1c-2712-40c2-9465-a0a223270852",
   "metadata": {},
   "outputs": [
    {
     "data": {
      "text/plain": [
       "array([[False, False, False, False, False],\n",
       "       [ True,  True,  True,  True, False],\n",
       "       [ True, False,  True, False, False],\n",
       "       [False,  True, False, False,  True]])"
      ]
     },
     "execution_count": 29,
     "metadata": {},
     "output_type": "execute_result"
    }
   ],
   "source": [
    "np.greater(arr1, arr2)"
   ]
  },
  {
   "cell_type": "code",
   "execution_count": null,
   "id": "8997fb90-3e78-4e54-8168-4b979c29236d",
   "metadata": {},
   "outputs": [],
   "source": []
  }
 ],
 "metadata": {
  "kernelspec": {
   "display_name": "Python 3 (ipykernel)",
   "language": "python",
   "name": "python3"
  },
  "language_info": {
   "codemirror_mode": {
    "name": "ipython",
    "version": 3
   },
   "file_extension": ".py",
   "mimetype": "text/x-python",
   "name": "python",
   "nbconvert_exporter": "python",
   "pygments_lexer": "ipython3",
   "version": "3.10.15"
  }
 },
 "nbformat": 4,
 "nbformat_minor": 5
}
