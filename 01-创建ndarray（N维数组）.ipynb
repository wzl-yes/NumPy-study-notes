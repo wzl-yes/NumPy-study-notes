{
 "cells": [
  {
   "cell_type": "markdown",
   "id": "27e2db93-ec66-4e1d-89ee-7b32e9d1ea23",
   "metadata": {},
   "source": [
    "# 创建NumPy数组`np.array(list)`"
   ]
  },
  {
   "cell_type": "code",
   "execution_count": 15,
   "id": "3642c8cf-1162-470c-b541-7e8bf872c963",
   "metadata": {},
   "outputs": [],
   "source": [
    "import numpy as np\n",
    "\n",
    "data1 = [6, 7.5, 8, 0, 1]\n",
    "arr1 = np.array(data1)\n",
    "\n",
    "#嵌套序列（如等长列表的列表）将被转换为多维数组\n",
    "data2 = [[1, 2, 3, 4], [5, 6, 7, 8]]\n",
    "arr2 = np.array(data2)"
   ]
  },
  {
   "cell_type": "code",
   "execution_count": 16,
   "id": "fcfe1b69-ffef-4fd7-bf3b-52cdbd15e8aa",
   "metadata": {},
   "outputs": [
    {
     "data": {
      "text/plain": [
       "array([6. , 7.5, 8. , 0. , 1. ])"
      ]
     },
     "execution_count": 16,
     "metadata": {},
     "output_type": "execute_result"
    }
   ],
   "source": [
    "arr1"
   ]
  },
  {
   "cell_type": "code",
   "execution_count": 17,
   "id": "c467875e-d24f-46ed-bea2-b21765b86a32",
   "metadata": {},
   "outputs": [
    {
     "data": {
      "text/plain": [
       "array([[1, 2, 3, 4],\n",
       "       [5, 6, 7, 8]])"
      ]
     },
     "execution_count": 17,
     "metadata": {},
     "output_type": "execute_result"
    }
   ],
   "source": [
    "arr2"
   ]
  },
  {
   "cell_type": "markdown",
   "id": "42e5072b-4976-4539-9e3c-e0b6833a4f81",
   "metadata": {},
   "source": [
    "# NumPy数组的维度`.ndim`和形状`.shape`"
   ]
  },
  {
   "cell_type": "code",
   "execution_count": 18,
   "id": "69480e22-07c4-4c6c-8dd9-c5d5b51ffa45",
   "metadata": {},
   "outputs": [
    {
     "data": {
      "text/plain": [
       "2"
      ]
     },
     "execution_count": 18,
     "metadata": {},
     "output_type": "execute_result"
    }
   ],
   "source": [
    "arr2.ndim"
   ]
  },
  {
   "cell_type": "code",
   "execution_count": 19,
   "id": "2b9f2a81-eb6d-46f1-a7b2-83c4f579998f",
   "metadata": {},
   "outputs": [
    {
     "data": {
      "text/plain": [
       "(2, 4)"
      ]
     },
     "execution_count": 19,
     "metadata": {},
     "output_type": "execute_result"
    }
   ],
   "source": [
    "arr2.shape"
   ]
  },
  {
   "cell_type": "markdown",
   "id": "a43e7751-94c8-455e-8007-a9d284f734ec",
   "metadata": {},
   "source": [
    "# NumPy数组的数据类型`.dtype`"
   ]
  },
  {
   "cell_type": "code",
   "execution_count": 20,
   "id": "41b15948-7790-45a7-9134-91096304a8f3",
   "metadata": {},
   "outputs": [
    {
     "data": {
      "text/plain": [
       "dtype('float64')"
      ]
     },
     "execution_count": 20,
     "metadata": {},
     "output_type": "execute_result"
    }
   ],
   "source": [
    "arr1.dtype"
   ]
  },
  {
   "cell_type": "code",
   "execution_count": 21,
   "id": "97caa4df-82e2-45ff-ba41-04ac3fb62858",
   "metadata": {},
   "outputs": [
    {
     "data": {
      "text/plain": [
       "dtype('int64')"
      ]
     },
     "execution_count": 21,
     "metadata": {},
     "output_type": "execute_result"
    }
   ],
   "source": [
    "arr2.dtype"
   ]
  },
  {
   "cell_type": "markdown",
   "id": "1830f39c-ed2a-43e0-ae64-a63455d15674",
   "metadata": {},
   "source": [
    "# 使用其它函数创建NumPy数组"
   ]
  },
  {
   "cell_type": "markdown",
   "id": "b73fa1d1-60e5-4cd3-8eca-a62b07d4df77",
   "metadata": {},
   "source": [
    "## 创建具有给定长度或形状的 0或1 数组`np.zero(int/tuple)`、`np.ones(int/tuple)`"
   ]
  },
  {
   "cell_type": "code",
   "execution_count": 23,
   "id": "d8c570cd-c316-45f0-801a-26789129af89",
   "metadata": {},
   "outputs": [
    {
     "data": {
      "text/plain": [
       "array([0., 0., 0., 0., 0., 0., 0., 0., 0., 0.])"
      ]
     },
     "execution_count": 23,
     "metadata": {},
     "output_type": "execute_result"
    }
   ],
   "source": [
    "np.zeros(10)"
   ]
  },
  {
   "cell_type": "code",
   "execution_count": 32,
   "id": "95661c00-3568-46ac-afc1-5cd96b89eab1",
   "metadata": {},
   "outputs": [
    {
     "data": {
      "text/plain": [
       "array([[0., 0., 0., 0., 0., 0.],\n",
       "       [0., 0., 0., 0., 0., 0.],\n",
       "       [0., 0., 0., 0., 0., 0.]])"
      ]
     },
     "execution_count": 32,
     "metadata": {},
     "output_type": "execute_result"
    }
   ],
   "source": [
    "np.zeros((3, 6))"
   ]
  },
  {
   "cell_type": "code",
   "execution_count": 33,
   "id": "a137c881-893b-44e1-ae71-805d868df3f6",
   "metadata": {},
   "outputs": [
    {
     "data": {
      "text/plain": [
       "array([1., 1., 1., 1., 1., 1., 1., 1., 1., 1.])"
      ]
     },
     "execution_count": 33,
     "metadata": {},
     "output_type": "execute_result"
    }
   ],
   "source": [
    "np.ones(10)"
   ]
  },
  {
   "cell_type": "markdown",
   "id": "5d304d8b-cedf-4442-ac6e-dea56ebd7593",
   "metadata": {},
   "source": [
    "## 创建一个数组，但不将其值初始化为任何特定值`np.empty(int/tuple)`。创建更高维度的数组，可以传递一个表示形状的元组。\n",
    "此函数返回未初始化的内存，因此可能包含非零的 “垃圾” 值。仅当打算用数据填充新数组时，才应使用此函数"
   ]
  },
  {
   "cell_type": "code",
   "execution_count": 29,
   "id": "7f7f153f-ffdb-44f9-b7dd-d6d7813684bb",
   "metadata": {},
   "outputs": [
    {
     "data": {
      "text/plain": [
       "array([[[1.47460527e-311, 2.47032823e-322],\n",
       "        [0.00000000e+000, 0.00000000e+000],\n",
       "        [8.01057146e-307, 6.82116729e-043]],\n",
       "\n",
       "       [[5.24869935e-090, 2.12677493e+160],\n",
       "        [5.45022610e-067, 1.48609835e-076],\n",
       "        [3.99910963e+252, 7.91843413e+165]]])"
      ]
     },
     "execution_count": 29,
     "metadata": {},
     "output_type": "execute_result"
    }
   ],
   "source": [
    "np.empty((2, 3, 2))"
   ]
  },
  {
   "cell_type": "markdown",
   "id": "87dd8ab5-9b7f-4556-ba87-5d5e9e22af26",
   "metadata": {},
   "source": [
    "# 类似Python内置函数range()的一个数组值版本`np.arange()`"
   ]
  },
  {
   "cell_type": "code",
   "execution_count": 31,
   "id": "96f8619b-c2f6-43e5-8f4f-d9c4f1310e19",
   "metadata": {},
   "outputs": [
    {
     "data": {
      "text/plain": [
       "array([ 0,  1,  2,  3,  4,  5,  6,  7,  8,  9, 10, 11, 12, 13, 14])"
      ]
     },
     "execution_count": 31,
     "metadata": {},
     "output_type": "execute_result"
    }
   ],
   "source": [
    "np.arange(15)"
   ]
  },
  {
   "cell_type": "markdown",
   "id": "4727f5bf-a01b-42ba-b7c2-4c488b0a9e22",
   "metadata": {},
   "source": [
    "# 标准数组创建函数的简短列表如下,由于 NumPy 专注于数值计算，因此数据类型（如果未指定）在许多情况下将是（浮点）。\n",
    "\n",
    "\n",
    "| 功能 | 描述 |\n",
    "|-------|-------|\n",
    "| array | 将输入数据（列表、元组、数组或其他序列类型）通过推断数据类型或显式指定数据类型转换为ndarray；默认情况下会复制输入数据 |\n",
    "| asarray | 将输入转换为ndarray，但如果输入已经是ndarray，则不进行复制 |\n",
    "| arange | 类似于内置函数，但返回的是一个ndarray而不是列表range |\n",
    "| ones,<br>ones_like | 根据给定的形状和数据类型生成一个全为1的数组；接收另一个数组，并生成一个具有相同形状和数据类型的新数组。 |\n",
    "| zeros,<br>zeros_like | 根据给定的形状和数据类型生成一个全为0的数组；接收另一个数组，并生成一个具有相同形状和数据类型的新数组 |\n",
    "| empty,<br>empty_like | 通过分配新的内存来创建新数组，但不要像ones或zeros那样用任何值填充它们 |\n",
    "| full,<br>full_like | 根据给定的形状和数据类型生成一个数组，并将所有值设置为指定的“填充值”；<br>接受另一个数组，并生成一个具有相同形状和数据类型且已填充的数组（full_like） |\n",
    "| eye, identity | 创建一个N × N的单位矩阵（对角线上为1，其他位置为0） |"
   ]
  },
  {
   "cell_type": "code",
   "execution_count": 79,
   "id": "f15adbe2-afde-4728-ab31-e80bfec18c5f",
   "metadata": {},
   "outputs": [
    {
     "data": {
      "text/plain": [
       "array([0, 2, 4, 6, 8])"
      ]
     },
     "execution_count": 79,
     "metadata": {},
     "output_type": "execute_result"
    }
   ],
   "source": [
    "# 使用np.arange创建一个等差数列\n",
    "np.arange(0, 10, 2)  # 从0开始，到10结束（不包括10），步长为2"
   ]
  },
  {
   "cell_type": "code",
   "execution_count": 80,
   "id": "d86a8e6a-81b3-459b-9fc9-a9e432e4fb40",
   "metadata": {},
   "outputs": [
    {
     "data": {
      "text/plain": [
       "array([0.  , 0.25, 0.5 , 0.75, 1.  ])"
      ]
     },
     "execution_count": 80,
     "metadata": {},
     "output_type": "execute_result"
    }
   ],
   "source": [
    "# 使用np.linspace创建一个等间距数组\n",
    "np.linspace(0, 1, 5)  # 从0到1，包含5个等间距的数"
   ]
  },
  {
   "cell_type": "code",
   "execution_count": 35,
   "id": "3c6ce5b0-d242-4ddd-9013-b144adae9748",
   "metadata": {},
   "outputs": [],
   "source": [
    "arr3=np.asarray(data1)"
   ]
  },
  {
   "cell_type": "code",
   "execution_count": 36,
   "id": "c58b7672-c3c3-4bc6-84a9-50513ca89df8",
   "metadata": {},
   "outputs": [
    {
     "data": {
      "text/plain": [
       "array([6. , 7.5, 8. , 0. , 1. ])"
      ]
     },
     "execution_count": 36,
     "metadata": {},
     "output_type": "execute_result"
    }
   ],
   "source": [
    "arr3"
   ]
  },
  {
   "cell_type": "code",
   "execution_count": 37,
   "id": "2fa91b46-486c-4bce-9ec5-5637c522a20a",
   "metadata": {},
   "outputs": [
    {
     "data": {
      "text/plain": [
       "array([1., 1., 1., 1., 1.])"
      ]
     },
     "execution_count": 37,
     "metadata": {},
     "output_type": "execute_result"
    }
   ],
   "source": [
    "np.ones_like(arr3)"
   ]
  },
  {
   "cell_type": "code",
   "execution_count": 38,
   "id": "2a0e8624-61a6-4fac-b38e-69566f26a025",
   "metadata": {},
   "outputs": [
    {
     "data": {
      "text/plain": [
       "array([[1, 1, 1, 1],\n",
       "       [1, 1, 1, 1]])"
      ]
     },
     "execution_count": 38,
     "metadata": {},
     "output_type": "execute_result"
    }
   ],
   "source": [
    "np.ones_like(arr2)"
   ]
  },
  {
   "cell_type": "code",
   "execution_count": 70,
   "id": "3d8e1504-d62f-4b89-809b-be078d895a44",
   "metadata": {},
   "outputs": [
    {
     "data": {
      "text/plain": [
       "array([[6.95192624e-310, 1.63041663e-322, 1.47460352e-311,\n",
       "        1.47463093e-311, 1.47457430e-311, 1.47461066e-311],\n",
       "       [1.47461909e-311, 2.12199579e-314, 2.96439388e-323,\n",
       "        2.12199579e-314, 4.88059033e-313, 2.58883486e-312],\n",
       "       [2.12199583e-314, 8.39911598e-323, 8.89318163e-323,\n",
       "        8.39911598e-323, 8.89318163e-323, 6.95192624e-310],\n",
       "       [1.47461821e-311, 1.47463604e-311, 1.47461613e-311,\n",
       "        1.47463602e-311, 1.47463611e-311, 1.47460845e-311],\n",
       "       [1.47460845e-311, 1.47462856e-311, 1.47462954e-311,\n",
       "        1.47457465e-311, 1.47462963e-311, 6.95192624e-310],\n",
       "       [1.47457399e-311, 1.47463604e-311, 1.47457400e-311,\n",
       "        1.47457400e-311, 1.47464118e-311, 1.47457672e-311]])"
      ]
     },
     "execution_count": 70,
     "metadata": {},
     "output_type": "execute_result"
    }
   ],
   "source": [
    "np.empty((6,6))"
   ]
  },
  {
   "cell_type": "code",
   "execution_count": 74,
   "id": "149fd28d-ade2-4584-ab72-3c9feba29d61",
   "metadata": {},
   "outputs": [
    {
     "data": {
      "text/plain": [
       "array([  25895968444448860,   23925768161198147,   32370111954616435,\n",
       "                         0, 2338621054691311616])"
      ]
     },
     "execution_count": 74,
     "metadata": {},
     "output_type": "execute_result"
    }
   ],
   "source": [
    "np.empty_like(arr3)"
   ]
  },
  {
   "cell_type": "code",
   "execution_count": 75,
   "id": "78e8cb14-acfb-405c-95bd-42ca7ad422ee",
   "metadata": {},
   "outputs": [
    {
     "data": {
      "text/plain": [
       "array([[6, 6, 6, 6],\n",
       "       [6, 6, 6, 6],\n",
       "       [6, 6, 6, 6]])"
      ]
     },
     "execution_count": 75,
     "metadata": {},
     "output_type": "execute_result"
    }
   ],
   "source": [
    "np.full((3,4),6)"
   ]
  },
  {
   "cell_type": "code",
   "execution_count": 76,
   "id": "5989e317-3b4d-4ea5-84ee-303536949d9a",
   "metadata": {},
   "outputs": [
    {
     "data": {
      "text/plain": [
       "array([7, 7, 7, 7, 7])"
      ]
     },
     "execution_count": 76,
     "metadata": {},
     "output_type": "execute_result"
    }
   ],
   "source": [
    "np.full_like(arr3,7)"
   ]
  },
  {
   "cell_type": "code",
   "execution_count": 77,
   "id": "4126c433-ba58-46ca-b655-e0f556070b0e",
   "metadata": {},
   "outputs": [
    {
     "data": {
      "text/plain": [
       "array([[1., 0., 0., 0., 0., 0., 0., 0., 0.],\n",
       "       [0., 1., 0., 0., 0., 0., 0., 0., 0.],\n",
       "       [0., 0., 1., 0., 0., 0., 0., 0., 0.],\n",
       "       [0., 0., 0., 1., 0., 0., 0., 0., 0.],\n",
       "       [0., 0., 0., 0., 1., 0., 0., 0., 0.],\n",
       "       [0., 0., 0., 0., 0., 1., 0., 0., 0.],\n",
       "       [0., 0., 0., 0., 0., 0., 1., 0., 0.],\n",
       "       [0., 0., 0., 0., 0., 0., 0., 1., 0.],\n",
       "       [0., 0., 0., 0., 0., 0., 0., 0., 1.]])"
      ]
     },
     "execution_count": 77,
     "metadata": {},
     "output_type": "execute_result"
    }
   ],
   "source": [
    "np.eye(9)"
   ]
  },
  {
   "cell_type": "code",
   "execution_count": 78,
   "id": "c6bb87e2-d94f-4c2a-9f4f-84caa63eb339",
   "metadata": {},
   "outputs": [
    {
     "data": {
      "text/plain": [
       "array([[1., 0., 0., 0., 0., 0., 0., 0., 0., 0.],\n",
       "       [0., 1., 0., 0., 0., 0., 0., 0., 0., 0.],\n",
       "       [0., 0., 1., 0., 0., 0., 0., 0., 0., 0.],\n",
       "       [0., 0., 0., 1., 0., 0., 0., 0., 0., 0.],\n",
       "       [0., 0., 0., 0., 1., 0., 0., 0., 0., 0.],\n",
       "       [0., 0., 0., 0., 0., 1., 0., 0., 0., 0.],\n",
       "       [0., 0., 0., 0., 0., 0., 1., 0., 0., 0.],\n",
       "       [0., 0., 0., 0., 0., 0., 0., 1., 0., 0.],\n",
       "       [0., 0., 0., 0., 0., 0., 0., 0., 1., 0.],\n",
       "       [0., 0., 0., 0., 0., 0., 0., 0., 0., 1.]])"
      ]
     },
     "execution_count": 78,
     "metadata": {},
     "output_type": "execute_result"
    }
   ],
   "source": [
    "np.identity(10)"
   ]
  },
  {
   "cell_type": "code",
   "execution_count": null,
   "id": "f71469d9-10d1-4e0e-82a9-80ba034d574f",
   "metadata": {},
   "outputs": [],
   "source": []
  }
 ],
 "metadata": {
  "kernelspec": {
   "display_name": "Python 3 (ipykernel)",
   "language": "python",
   "name": "python3"
  },
  "language_info": {
   "codemirror_mode": {
    "name": "ipython",
    "version": 3
   },
   "file_extension": ".py",
   "mimetype": "text/x-python",
   "name": "python",
   "nbconvert_exporter": "python",
   "pygments_lexer": "ipython3",
   "version": "3.10.15"
  }
 },
 "nbformat": 4,
 "nbformat_minor": 5
}
