{
 "cells": [
  {
   "cell_type": "markdown",
   "id": "eed2c584-e407-4859-98ce-03f06b863cfb",
   "metadata": {},
   "source": [
    "# 使用数组进行文件输入和输出\n",
    "NumPy能够读写磁盘上的文本数据或二进制格式的数据。下面讨论NumPy内置的二进制格式，因为更多的用户会使用pandas或其他工具加载文本或表格数据。"
   ]
  },
  {
   "cell_type": "markdown",
   "id": "5f2325b5-47a0-4bce-9841-48568b20814c",
   "metadata": {},
   "source": [
    "## `numpy.save()`和`numpy.load()`是读写磁盘数组数据的两个主要函数。默认情况下，数组是以未压缩的原始二进制格式保存在扩展名为`.npy`的文件中的"
   ]
  },
  {
   "cell_type": "code",
   "execution_count": 20,
   "id": "acc84d5c-9045-4a0f-b64b-832cd2b49625",
   "metadata": {},
   "outputs": [],
   "source": [
    "import numpy as np"
   ]
  },
  {
   "cell_type": "code",
   "execution_count": 21,
   "id": "4a98cca2-f773-46e7-9b1a-78fae8f9ac68",
   "metadata": {},
   "outputs": [],
   "source": [
    "arr = np.arange(10)"
   ]
  },
  {
   "cell_type": "code",
   "execution_count": 22,
   "id": "8e46caa9-46aa-4710-9457-fb97b78284a6",
   "metadata": {},
   "outputs": [],
   "source": [
    "np.save(\"some_array\", arr)    # 如果文件路径末尾没有扩展名.npy，则该扩展名会自动加上。"
   ]
  },
  {
   "cell_type": "code",
   "execution_count": 23,
   "id": "b7e78c74-66a5-407a-a41d-cfc0bf061d81",
   "metadata": {},
   "outputs": [
    {
     "data": {
      "text/plain": [
       "array([0, 1, 2, 3, 4, 5, 6, 7, 8, 9])"
      ]
     },
     "execution_count": 23,
     "metadata": {},
     "output_type": "execute_result"
    }
   ],
   "source": [
    "np.load(\"some_array.npy\")    # 通过numpy.load读取磁盘上的数组了"
   ]
  },
  {
   "cell_type": "markdown",
   "id": "49f58bfb-07d3-4936-9923-a1f772849a81",
   "metadata": {},
   "source": [
    "## `numpy.savez()`可以将多个数组保存到一个未压缩文件中，将数组以关键字参数的形式传入即可。仅保存文件不压缩。\n",
    "加载`.npz`文件时，会得到一个类似字典的对象，该对象会对各个数组进行延迟加载。"
   ]
  },
  {
   "cell_type": "code",
   "execution_count": 24,
   "id": "f5ee0f9d-408f-4c71-8c3d-175a44bcf10e",
   "metadata": {},
   "outputs": [],
   "source": [
    "np.savez(\"array_archive.npz\", a=arr, b=arr)"
   ]
  },
  {
   "cell_type": "code",
   "execution_count": 25,
   "id": "60a02f58-115b-43b1-a173-137abbb468ae",
   "metadata": {},
   "outputs": [],
   "source": [
    "arch = np.load(\"array_archive.npz\")"
   ]
  },
  {
   "cell_type": "code",
   "execution_count": 26,
   "id": "9f6290b1-c4ad-408f-952f-86a6710d2f96",
   "metadata": {},
   "outputs": [
    {
     "data": {
      "text/plain": [
       "array([0, 1, 2, 3, 4, 5, 6, 7, 8, 9])"
      ]
     },
     "execution_count": 26,
     "metadata": {},
     "output_type": "execute_result"
    }
   ],
   "source": [
    "arch[\"b\"]"
   ]
  },
  {
   "cell_type": "markdown",
   "id": "39ddcdc5-b8e8-4980-8a1b-0394ff5f2115",
   "metadata": {},
   "source": [
    "## 要将数据存入已压缩的文件，可以使用`numpy.savez_compressed()`，保存并压缩文件。"
   ]
  },
  {
   "cell_type": "code",
   "execution_count": 35,
   "id": "da3d9185-35b2-42ac-8454-3b1acc11eca3",
   "metadata": {},
   "outputs": [],
   "source": [
    "np.savez_compressed(\"arrays_compressed.npz\", a=arr, b=arr)"
   ]
  }
 ],
 "metadata": {
  "kernelspec": {
   "display_name": "Python 3 (ipykernel)",
   "language": "python",
   "name": "python3"
  },
  "language_info": {
   "codemirror_mode": {
    "name": "ipython",
    "version": 3
   },
   "file_extension": ".py",
   "mimetype": "text/x-python",
   "name": "python",
   "nbconvert_exporter": "python",
   "pygments_lexer": "ipython3",
   "version": "3.10.15"
  }
 },
 "nbformat": 4,
 "nbformat_minor": 5
}
