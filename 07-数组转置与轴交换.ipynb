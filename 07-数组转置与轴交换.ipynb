{
 "cells": [
  {
   "cell_type": "markdown",
   "id": "d59ccee4-66b8-4be7-be34-f7a4b413ef93",
   "metadata": {},
   "source": [
    "# 转置（Transposing）是一种特殊的重塑形式，会返回一个对底层数据的视图，而不会复制任何内容。数组通过特殊属性`数组.T`或`数组.transpose()`方法进行转置。"
   ]
  },
  {
   "cell_type": "code",
   "execution_count": 1,
   "id": "585dbc48-6785-44a5-932c-9e5d8e021c91",
   "metadata": {},
   "outputs": [],
   "source": [
    "import numpy as np\n",
    "\n",
    "arr = np.arange(15).reshape((3, 5))"
   ]
  },
  {
   "cell_type": "code",
   "execution_count": 29,
   "id": "31f358c2-7fec-42a6-b32d-4577ebb391f7",
   "metadata": {},
   "outputs": [
    {
     "data": {
      "text/plain": [
       "array([[ 0,  1,  0],\n",
       "       [ 1,  2, -2],\n",
       "       [ 6,  3,  2],\n",
       "       [-1,  0, -1],\n",
       "       [ 1,  0,  1]])"
      ]
     },
     "execution_count": 29,
     "metadata": {},
     "output_type": "execute_result"
    }
   ],
   "source": [
    "arr"
   ]
  },
  {
   "cell_type": "code",
   "execution_count": 30,
   "id": "ce2dfa9c-2d3e-4a80-abd7-8f746c0711e2",
   "metadata": {},
   "outputs": [
    {
     "data": {
      "text/plain": [
       "array([[ 0,  1,  6, -1,  1],\n",
       "       [ 1,  2,  3,  0,  0],\n",
       "       [ 0, -2,  2, -1,  1]])"
      ]
     },
     "execution_count": 30,
     "metadata": {},
     "output_type": "execute_result"
    }
   ],
   "source": [
    "arr.T"
   ]
  },
  {
   "cell_type": "code",
   "execution_count": 31,
   "id": "10b2f1c9-671f-41eb-bfa7-e9b49fa3d667",
   "metadata": {},
   "outputs": [
    {
     "data": {
      "text/plain": [
       "array([[ 0,  1,  6, -1,  1],\n",
       "       [ 1,  2,  3,  0,  0],\n",
       "       [ 0, -2,  2, -1,  1]])"
      ]
     },
     "execution_count": 31,
     "metadata": {},
     "output_type": "execute_result"
    }
   ],
   "source": [
    "arr.transpose()"
   ]
  },
  {
   "cell_type": "markdown",
   "id": "3ed5b342-a0da-4a7d-8052-973156175dd4",
   "metadata": {},
   "source": [
    "## 数组转置应用场景，计算内矩阵积`np.dot()`"
   ]
  },
  {
   "cell_type": "code",
   "execution_count": 5,
   "id": "016614ac-f03b-4946-92a7-4526ad18bf1c",
   "metadata": {},
   "outputs": [],
   "source": [
    "arr = np.array([[0, 1, 0], [1, 2, -2], [6, 3, 2], [-1, 0, -1], [1, 0, 1]])"
   ]
  },
  {
   "cell_type": "code",
   "execution_count": 6,
   "id": "5541e924-0fe7-45a1-a98d-49e1a5ea52d3",
   "metadata": {},
   "outputs": [
    {
     "data": {
      "text/plain": [
       "array([[ 0,  1,  0],\n",
       "       [ 1,  2, -2],\n",
       "       [ 6,  3,  2],\n",
       "       [-1,  0, -1],\n",
       "       [ 1,  0,  1]])"
      ]
     },
     "execution_count": 6,
     "metadata": {},
     "output_type": "execute_result"
    }
   ],
   "source": [
    "arr"
   ]
  },
  {
   "cell_type": "code",
   "execution_count": 8,
   "id": "d157d690-2a2d-4a10-8c91-d09e57e6d233",
   "metadata": {},
   "outputs": [
    {
     "data": {
      "text/plain": [
       "array([[39, 20, 12],\n",
       "       [20, 14,  2],\n",
       "       [12,  2, 10]])"
      ]
     },
     "execution_count": 8,
     "metadata": {},
     "output_type": "execute_result"
    }
   ],
   "source": [
    "np.dot(arr.T, arr)"
   ]
  },
  {
   "cell_type": "markdown",
   "id": "a08249f3-ae37-4208-a9d7-bdc7b2862715",
   "metadata": {},
   "source": [
    "## 矩阵乘法的另一种方式`@`"
   ]
  },
  {
   "cell_type": "code",
   "execution_count": 9,
   "id": "078196a7-b9b7-4186-ad16-aeb1135aaa5e",
   "metadata": {},
   "outputs": [
    {
     "data": {
      "text/plain": [
       "array([[39, 20, 12],\n",
       "       [20, 14,  2],\n",
       "       [12,  2, 10]])"
      ]
     },
     "execution_count": 9,
     "metadata": {},
     "output_type": "execute_result"
    }
   ],
   "source": [
    "arr.T @ arr"
   ]
  },
  {
   "cell_type": "markdown",
   "id": "ebea6a51-997c-4ff9-b525-f351bee4c0b2",
   "metadata": {},
   "source": [
    "# 简单的转置是交换轴的一个特例。ndarray还有一个交换数组两个轴的方法，它接受一对轴编号，并交换指定的轴以重新排列数据。`数组.swapaxes(0, 1)`\n",
    "swapaxes 同样会返回一个数据的视图，而不会进行复制"
   ]
  },
  {
   "cell_type": "code",
   "execution_count": 21,
   "id": "5c2d0535-4f79-48a0-81f3-cea21cb88bd9",
   "metadata": {},
   "outputs": [
    {
     "data": {
      "text/plain": [
       "array([[ 0,  1,  0],\n",
       "       [ 1,  2, -2],\n",
       "       [ 6,  3,  2],\n",
       "       [-1,  0, -1],\n",
       "       [ 1,  0,  1]])"
      ]
     },
     "execution_count": 21,
     "metadata": {},
     "output_type": "execute_result"
    }
   ],
   "source": [
    "arr"
   ]
  },
  {
   "cell_type": "code",
   "execution_count": 27,
   "id": "2703ac2b-f7d0-4fdd-9760-43c08e61fe95",
   "metadata": {},
   "outputs": [
    {
     "data": {
      "text/plain": [
       "array([[ 0,  1,  6, -1,  1],\n",
       "       [ 1,  2,  3,  0,  0],\n",
       "       [ 0, -2,  2, -1,  1]])"
      ]
     },
     "execution_count": 27,
     "metadata": {},
     "output_type": "execute_result"
    }
   ],
   "source": [
    "arr.swapaxes(0, 1)    #使用 swapaxes(0, 1) 方法交换了数组的轴 0（行）和轴 1（列）"
   ]
  },
  {
   "cell_type": "code",
   "execution_count": null,
   "id": "a18793b6-b55c-44e6-83cd-f8eb67bac72c",
   "metadata": {},
   "outputs": [],
   "source": []
  }
 ],
 "metadata": {
  "kernelspec": {
   "display_name": "Python 3 (ipykernel)",
   "language": "python",
   "name": "python3"
  },
  "language_info": {
   "codemirror_mode": {
    "name": "ipython",
    "version": 3
   },
   "file_extension": ".py",
   "mimetype": "text/x-python",
   "name": "python",
   "nbconvert_exporter": "python",
   "pygments_lexer": "ipython3",
   "version": "3.10.15"
  }
 },
 "nbformat": 4,
 "nbformat_minor": 5
}
