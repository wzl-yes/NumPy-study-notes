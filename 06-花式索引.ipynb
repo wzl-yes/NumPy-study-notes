{
 "cells": [
  {
   "cell_type": "markdown",
   "id": "61448f6f-697a-45cd-b063-cd7aeb2e0e1c",
   "metadata": {},
   "source": [
    "# 花式索引（Fancy indexing）是NumPy采用的一个术语，用于描述使用整数数组进行索引。"
   ]
  },
  {
   "cell_type": "code",
   "execution_count": 3,
   "id": "8a404812-7638-488a-bff6-2949c58670ac",
   "metadata": {},
   "outputs": [],
   "source": [
    "import numpy as np\n",
    "\n",
    "arr = np.zeros((8, 4))\n",
    "\n",
    "for i in range(8):\n",
    "    arr[i] = i"
   ]
  },
  {
   "cell_type": "code",
   "execution_count": 4,
   "id": "39511b04-3e89-4a9a-8a35-a9ee72b757e8",
   "metadata": {},
   "outputs": [
    {
     "data": {
      "text/plain": [
       "array([[0., 0., 0., 0.],\n",
       "       [1., 1., 1., 1.],\n",
       "       [2., 2., 2., 2.],\n",
       "       [3., 3., 3., 3.],\n",
       "       [4., 4., 4., 4.],\n",
       "       [5., 5., 5., 5.],\n",
       "       [6., 6., 6., 6.],\n",
       "       [7., 7., 7., 7.]])"
      ]
     },
     "execution_count": 4,
     "metadata": {},
     "output_type": "execute_result"
    }
   ],
   "source": [
    "arr"
   ]
  },
  {
   "cell_type": "markdown",
   "id": "226a1620-a7f8-4f94-9f94-3ad3c9cec095",
   "metadata": {},
   "source": [
    "## 按照特定顺序选择行的子集，只需传递一个包含指定顺序的整数的列表或ndarray即可。"
   ]
  },
  {
   "cell_type": "code",
   "execution_count": 8,
   "id": "8fdccb40-c4a2-424c-9cee-e94c9ccc7b65",
   "metadata": {},
   "outputs": [
    {
     "data": {
      "text/plain": [
       "array([[4., 4., 4., 4.],\n",
       "       [3., 3., 3., 3.],\n",
       "       [0., 0., 0., 0.],\n",
       "       [6., 6., 6., 6.]])"
      ]
     },
     "execution_count": 8,
     "metadata": {},
     "output_type": "execute_result"
    }
   ],
   "source": [
    "arr[[4, 3, 0, 6]]    "
   ]
  },
  {
   "cell_type": "markdown",
   "id": "ddb1d4ea-c1c8-4123-9528-a64b05a1446f",
   "metadata": {},
   "source": [
    "## 使用负索引可以从末尾选择行"
   ]
  },
  {
   "cell_type": "code",
   "execution_count": 7,
   "id": "56113d0c-d4e8-4740-adad-63fdd9b27e5c",
   "metadata": {},
   "outputs": [
    {
     "data": {
      "text/plain": [
       "array([[5., 5., 5., 5.],\n",
       "       [3., 3., 3., 3.],\n",
       "       [1., 1., 1., 1.]])"
      ]
     },
     "execution_count": 7,
     "metadata": {},
     "output_type": "execute_result"
    }
   ],
   "source": [
    "arr[[-3, -5, -7]]"
   ]
  },
  {
   "cell_type": "markdown",
   "id": "588c5727-638e-431c-bb0a-4c02353164fd",
   "metadata": {},
   "source": [
    "## 传递多个索引数组时的操作略有不同，它会为每个索引元组选择一个对应的一维元素数组"
   ]
  },
  {
   "cell_type": "code",
   "execution_count": 9,
   "id": "4f78237e-67d1-46b7-8c72-0556f0d5fcbf",
   "metadata": {},
   "outputs": [],
   "source": [
    "arr = np.arange(32).reshape((8, 4))"
   ]
  },
  {
   "cell_type": "code",
   "execution_count": 10,
   "id": "4948ba26-675b-4ede-b434-2b6cb264eb79",
   "metadata": {},
   "outputs": [
    {
     "data": {
      "text/plain": [
       "array([[ 0,  1,  2,  3],\n",
       "       [ 4,  5,  6,  7],\n",
       "       [ 8,  9, 10, 11],\n",
       "       [12, 13, 14, 15],\n",
       "       [16, 17, 18, 19],\n",
       "       [20, 21, 22, 23],\n",
       "       [24, 25, 26, 27],\n",
       "       [28, 29, 30, 31]])"
      ]
     },
     "execution_count": 10,
     "metadata": {},
     "output_type": "execute_result"
    }
   ],
   "source": [
    "arr"
   ]
  },
  {
   "cell_type": "code",
   "execution_count": 12,
   "id": "58b613f4-2341-4e57-aa5f-3753f42cbbad",
   "metadata": {},
   "outputs": [
    {
     "data": {
      "text/plain": [
       "array([ 4, 23, 29, 10])"
      ]
     },
     "execution_count": 12,
     "metadata": {},
     "output_type": "execute_result"
    }
   ],
   "source": [
    "arr[[1, 5, 7, 2], [0, 3, 1, 2]]    #在这里，选择了元素(1, 0)，(5, 3)，(7, 1)和(2, 2)。当使用与轴数量一样多的整数数组进行花式索引时，结果总是一维的"
   ]
  },
  {
   "cell_type": "markdown",
   "id": "a003bba7-218a-4798-a7de-878de242a54a",
   "metadata": {},
   "source": [
    "## 通过选择矩阵行和列（排列顺序）的一个子集来形成一个矩形区域"
   ]
  },
  {
   "cell_type": "code",
   "execution_count": 13,
   "id": "5ee3b1f1-5fa9-45f5-8444-a0fa7d3c3324",
   "metadata": {},
   "outputs": [
    {
     "data": {
      "text/plain": [
       "array([[ 4,  5,  6,  7],\n",
       "       [20, 21, 22, 23],\n",
       "       [28, 29, 30, 31],\n",
       "       [ 8,  9, 10, 11]])"
      ]
     },
     "execution_count": 13,
     "metadata": {},
     "output_type": "execute_result"
    }
   ],
   "source": [
    "arr[[1, 5, 7, 2]]"
   ]
  },
  {
   "cell_type": "code",
   "execution_count": 14,
   "id": "bb7ebaec-2315-4531-be3b-36a8b2614707",
   "metadata": {},
   "outputs": [
    {
     "data": {
      "text/plain": [
       "array([[ 4,  7,  5,  6],\n",
       "       [20, 23, 21, 22],\n",
       "       [28, 31, 29, 30],\n",
       "       [ 8, 11,  9, 10]])"
      ]
     },
     "execution_count": 14,
     "metadata": {},
     "output_type": "execute_result"
    }
   ],
   "source": [
    "arr[[1, 5, 7, 2]][:, [0, 3, 1, 2]]"
   ]
  },
  {
   "cell_type": "code",
   "execution_count": null,
   "id": "7668fd67-328b-4d86-8ab0-c27d81202829",
   "metadata": {},
   "outputs": [],
   "source": [
    "# "
   ]
  }
 ],
 "metadata": {
  "kernelspec": {
   "display_name": "Python 3 (ipykernel)",
   "language": "python",
   "name": "python3"
  },
  "language_info": {
   "codemirror_mode": {
    "name": "ipython",
    "version": 3
   },
   "file_extension": ".py",
   "mimetype": "text/x-python",
   "name": "python",
   "nbconvert_exporter": "python",
   "pygments_lexer": "ipython3",
   "version": "3.10.15"
  }
 },
 "nbformat": 4,
 "nbformat_minor": 5
}
