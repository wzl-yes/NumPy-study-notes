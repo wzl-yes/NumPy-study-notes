{
 "cells": [
  {
   "cell_type": "markdown",
   "id": "1aa89af6-6d00-4c15-bb09-583f59d2d944",
   "metadata": {},
   "source": [
    "# 假设每个名称对应于data数组中的一行，并且我们希望选择具有相应名称的所有行。就像算术运算一样，对数组进行比较也是向量化的。因此，与字符串进行比较会产生一个布尔数组\n",
    "通过布尔索引从数组中选择数据并将结果分配给一个新变量时，总是会创建数据的副本，即使返回的数组未发生变化。"
   ]
  },
  {
   "cell_type": "code",
   "execution_count": 1,
   "id": "c2a282bc-7fd6-47fd-a72a-e6fd9307dbb1",
   "metadata": {},
   "outputs": [],
   "source": [
    "import numpy as np\n",
    "\n",
    "names = np.array([\"Bob\", \"Joe\", \"Will\", \"Bob\", \"Will\", \"Joe\", \"Joe\"])\n",
    "\n",
    "data = np.array([[4, 7], [0, 2], [-5, 6], [0, 0], [1, 2],[-12, -4], [3, 4]])"
   ]
  },
  {
   "cell_type": "code",
   "execution_count": 2,
   "id": "b51dd7ed-e231-4ec2-93c1-1075d57a5caf",
   "metadata": {},
   "outputs": [
    {
     "data": {
      "text/plain": [
       "array(['Bob', 'Joe', 'Will', 'Bob', 'Will', 'Joe', 'Joe'], dtype='<U4')"
      ]
     },
     "execution_count": 2,
     "metadata": {},
     "output_type": "execute_result"
    }
   ],
   "source": [
    "names"
   ]
  },
  {
   "cell_type": "code",
   "execution_count": 3,
   "id": "66a627e9-8b9a-46ff-9f55-281366048310",
   "metadata": {},
   "outputs": [
    {
     "data": {
      "text/plain": [
       "array([[  4,   7],\n",
       "       [  0,   2],\n",
       "       [ -5,   6],\n",
       "       [  0,   0],\n",
       "       [  1,   2],\n",
       "       [-12,  -4],\n",
       "       [  3,   4]])"
      ]
     },
     "execution_count": 3,
     "metadata": {},
     "output_type": "execute_result"
    }
   ],
   "source": [
    "data"
   ]
  },
  {
   "cell_type": "code",
   "execution_count": 4,
   "id": "bd348585-c1a7-46ee-b194-86fe3e48aac6",
   "metadata": {},
   "outputs": [
    {
     "data": {
      "text/plain": [
       "array([ True, False, False,  True, False, False, False])"
      ]
     },
     "execution_count": 4,
     "metadata": {},
     "output_type": "execute_result"
    }
   ],
   "source": [
    "names == \"Bob\""
   ]
  },
  {
   "cell_type": "markdown",
   "id": "47a055ee-b82b-4a8a-ba08-d821a71ee933",
   "metadata": {},
   "source": [
    "## 在为数组编制索引时，可以传递此 Boolean 数组"
   ]
  },
  {
   "cell_type": "code",
   "execution_count": 5,
   "id": "21df692b-04ea-44ba-9b39-efaad4154fa3",
   "metadata": {},
   "outputs": [
    {
     "data": {
      "text/plain": [
       "array([[4, 7],\n",
       "       [0, 0]])"
      ]
     },
     "execution_count": 5,
     "metadata": {},
     "output_type": "execute_result"
    }
   ],
   "source": [
    "data[names == \"Bob\"]"
   ]
  },
  {
   "cell_type": "markdown",
   "id": "aefc38ba-53dd-4157-ae81-063fbd626485",
   "metadata": {},
   "source": [
    "## 布尔数组的长度必须与它正在索引的数组轴的长度相同。可以将布尔数组与切片或整数混合匹配"
   ]
  },
  {
   "cell_type": "code",
   "execution_count": 6,
   "id": "19ccac13-55e3-4f19-9ce5-34936bf83587",
   "metadata": {},
   "outputs": [
    {
     "data": {
      "text/plain": [
       "array([[7],\n",
       "       [0]])"
      ]
     },
     "execution_count": 6,
     "metadata": {},
     "output_type": "execute_result"
    }
   ],
   "source": [
    "data[names == \"Bob\", 1:]    #行中进行选择，同时也对列进行索引"
   ]
  },
  {
   "cell_type": "code",
   "execution_count": 7,
   "id": "1c4a69f2-0013-469b-a047-fd7f27325d50",
   "metadata": {},
   "outputs": [
    {
     "data": {
      "text/plain": [
       "array([7, 0])"
      ]
     },
     "execution_count": 7,
     "metadata": {},
     "output_type": "execute_result"
    }
   ],
   "source": [
    "data[names == \"Bob\", 1]"
   ]
  },
  {
   "cell_type": "markdown",
   "id": "66c3f709-c4e7-42a5-b48d-19f26a5c3911",
   "metadata": {},
   "source": [
    "# 其它索引条件，使用条件运算符`!=`或者对条件取反`~`"
   ]
  },
  {
   "cell_type": "code",
   "execution_count": 8,
   "id": "03913e15-006c-46a0-86ac-e885b2c3143d",
   "metadata": {},
   "outputs": [
    {
     "data": {
      "text/plain": [
       "array([False,  True,  True, False,  True,  True,  True])"
      ]
     },
     "execution_count": 8,
     "metadata": {},
     "output_type": "execute_result"
    }
   ],
   "source": [
    "names != \"Bob\""
   ]
  },
  {
   "cell_type": "code",
   "execution_count": 9,
   "id": "33490c21-21f9-46e1-808b-50d247d59a65",
   "metadata": {},
   "outputs": [
    {
     "data": {
      "text/plain": [
       "array([False,  True,  True, False,  True,  True,  True])"
      ]
     },
     "execution_count": 9,
     "metadata": {},
     "output_type": "execute_result"
    }
   ],
   "source": [
    "~(names == \"Bob\")"
   ]
  },
  {
   "cell_type": "code",
   "execution_count": 10,
   "id": "3a488d1d-b29a-4d85-bef8-801bbf95aff3",
   "metadata": {},
   "outputs": [
    {
     "data": {
      "text/plain": [
       "array([[  0,   2],\n",
       "       [ -5,   6],\n",
       "       [  1,   2],\n",
       "       [-12,  -4],\n",
       "       [  3,   4]])"
      ]
     },
     "execution_count": 10,
     "metadata": {},
     "output_type": "execute_result"
    }
   ],
   "source": [
    "data[~(names == \"Bob\")]"
   ]
  },
  {
   "cell_type": "code",
   "execution_count": 11,
   "id": "c62d951a-8170-4e7f-b3fd-1f3316e22ea1",
   "metadata": {},
   "outputs": [],
   "source": [
    "cond = names == \"Bob\"    #与上面的一样，通过~反转变量引用的布尔数组"
   ]
  },
  {
   "cell_type": "code",
   "execution_count": 12,
   "id": "0d4fd3b7-f062-4cd4-af97-8f277548b14c",
   "metadata": {},
   "outputs": [
    {
     "data": {
      "text/plain": [
       "array([[  0,   2],\n",
       "       [ -5,   6],\n",
       "       [  1,   2],\n",
       "       [-12,  -4],\n",
       "       [  3,   4]])"
      ]
     },
     "execution_count": 12,
     "metadata": {},
     "output_type": "execute_result"
    }
   ],
   "source": [
    "data[~cond]"
   ]
  },
  {
   "cell_type": "markdown",
   "id": "30bf7833-b14b-4ea5-a22f-f268affccaa0",
   "metadata": {},
   "source": [
    "# 组合多个布尔条件，可以使用布尔算术运算符，如（和`&`）和（或`|`）\n",
    "Python关键字`and`和`or`不适用于布尔数组算数运算符。"
   ]
  },
  {
   "cell_type": "code",
   "execution_count": 13,
   "id": "9119d0af-a996-4fa1-b3e5-b68e916d592a",
   "metadata": {},
   "outputs": [],
   "source": [
    "mask = (names == \"Bob\") | (names == \"Will\")"
   ]
  },
  {
   "cell_type": "code",
   "execution_count": 14,
   "id": "650e5ed1-1288-486f-967f-7e3c9e42cf78",
   "metadata": {},
   "outputs": [
    {
     "data": {
      "text/plain": [
       "array([ True, False,  True,  True,  True, False, False])"
      ]
     },
     "execution_count": 14,
     "metadata": {},
     "output_type": "execute_result"
    }
   ],
   "source": [
    "mask"
   ]
  },
  {
   "cell_type": "markdown",
   "id": "270fac98-e80c-426e-b80b-864fcdaf669d",
   "metadata": {},
   "source": [
    "# 对满足条件的元素进行重新赋值"
   ]
  },
  {
   "cell_type": "code",
   "execution_count": 15,
   "id": "46e98ee3-30fe-49f6-af7c-5bc720313a5b",
   "metadata": {},
   "outputs": [
    {
     "data": {
      "text/plain": [
       "array([[  4,   7],\n",
       "       [  0,   2],\n",
       "       [ -5,   6],\n",
       "       [  0,   0],\n",
       "       [  1,   2],\n",
       "       [-12,  -4],\n",
       "       [  3,   4]])"
      ]
     },
     "execution_count": 15,
     "metadata": {},
     "output_type": "execute_result"
    }
   ],
   "source": [
    "data"
   ]
  },
  {
   "cell_type": "code",
   "execution_count": 16,
   "id": "8576493b-06e9-49bb-98a2-325cba08bf91",
   "metadata": {},
   "outputs": [
    {
     "data": {
      "text/plain": [
       "array([[False, False],\n",
       "       [False, False],\n",
       "       [ True, False],\n",
       "       [False, False],\n",
       "       [False, False],\n",
       "       [ True,  True],\n",
       "       [False, False]])"
      ]
     },
     "execution_count": 16,
     "metadata": {},
     "output_type": "execute_result"
    }
   ],
   "source": [
    "data < 0"
   ]
  },
  {
   "cell_type": "code",
   "execution_count": 17,
   "id": "1522a4f0-a79f-433e-9915-4cbc4adb7291",
   "metadata": {},
   "outputs": [
    {
     "data": {
      "text/plain": [
       "array([ -5, -12,  -4])"
      ]
     },
     "execution_count": 17,
     "metadata": {},
     "output_type": "execute_result"
    }
   ],
   "source": [
    "data[data < 0]"
   ]
  },
  {
   "cell_type": "code",
   "execution_count": 18,
   "id": "9f587900-86cc-4863-bae8-1e1cbdd8a02a",
   "metadata": {},
   "outputs": [],
   "source": [
    "data[data < 0] = 0"
   ]
  },
  {
   "cell_type": "code",
   "execution_count": 19,
   "id": "7402c593-a7b0-4d29-9e7d-c9738294624e",
   "metadata": {},
   "outputs": [
    {
     "data": {
      "text/plain": [
       "array([[4, 7],\n",
       "       [0, 2],\n",
       "       [0, 6],\n",
       "       [0, 0],\n",
       "       [1, 2],\n",
       "       [0, 0],\n",
       "       [3, 4]])"
      ]
     },
     "execution_count": 19,
     "metadata": {},
     "output_type": "execute_result"
    }
   ],
   "source": [
    "data"
   ]
  },
  {
   "cell_type": "markdown",
   "id": "83ef8892-4f36-40f2-ac9b-4b9abc5e161f",
   "metadata": {},
   "source": [
    "# 用一维布尔数组给整行或整列重新赋值"
   ]
  },
  {
   "cell_type": "code",
   "execution_count": 20,
   "id": "773fd5fc-69ba-407e-9fd1-9161a20f44ec",
   "metadata": {},
   "outputs": [
    {
     "data": {
      "text/plain": [
       "array([ True, False,  True,  True,  True, False, False])"
      ]
     },
     "execution_count": 20,
     "metadata": {},
     "output_type": "execute_result"
    }
   ],
   "source": [
    "names != \"Joe\""
   ]
  },
  {
   "cell_type": "code",
   "execution_count": 21,
   "id": "5f94086c-224a-4113-8478-6617e2f93fc4",
   "metadata": {},
   "outputs": [],
   "source": [
    "data[names != \"Joe\"] = 7"
   ]
  },
  {
   "cell_type": "code",
   "execution_count": 22,
   "id": "8689808e-0a5e-40d9-99ab-e26022cf9e1c",
   "metadata": {},
   "outputs": [
    {
     "data": {
      "text/plain": [
       "array([[7, 7],\n",
       "       [0, 2],\n",
       "       [7, 7],\n",
       "       [7, 7],\n",
       "       [7, 7],\n",
       "       [0, 0],\n",
       "       [3, 4]])"
      ]
     },
     "execution_count": 22,
     "metadata": {},
     "output_type": "execute_result"
    }
   ],
   "source": [
    "data"
   ]
  },
  {
   "cell_type": "code",
   "execution_count": null,
   "id": "812b49e6-67da-416c-8597-46225e36d4f4",
   "metadata": {},
   "outputs": [],
   "source": []
  }
 ],
 "metadata": {
  "kernelspec": {
   "display_name": "Python 3 (ipykernel)",
   "language": "python",
   "name": "python3"
  },
  "language_info": {
   "codemirror_mode": {
    "name": "ipython",
    "version": 3
   },
   "file_extension": ".py",
   "mimetype": "text/x-python",
   "name": "python",
   "nbconvert_exporter": "python",
   "pygments_lexer": "ipython3",
   "version": "3.10.15"
  }
 },
 "nbformat": 4,
 "nbformat_minor": 5
}
