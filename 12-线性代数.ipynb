{
 "cells": [
  {
   "cell_type": "markdown",
   "id": "e191395a-f7f0-4579-a3c2-8f74ab4df499",
   "metadata": {},
   "source": [
    "# 线性代数（如矩阵乘法、矩阵分解、行列式以及其他方阵数学等）是许多数组库的重要组成部分。"
   ]
  },
  {
   "cell_type": "markdown",
   "id": "48a9f34b-539e-4756-a8b2-e1d8751730b2",
   "metadata": {},
   "source": [
    "## 矩阵乘法  `数组1.dot(数组2)`等价于`np.dot(数组1, 数组2)`"
   ]
  },
  {
   "cell_type": "code",
   "execution_count": 1,
   "id": "73a5543b-ab00-454e-8a1b-a9ed2e1a5724",
   "metadata": {},
   "outputs": [],
   "source": [
    "import numpy as np\n",
    "rng = np.random.default_rng(seed=12345)"
   ]
  },
  {
   "cell_type": "code",
   "execution_count": 2,
   "id": "faa1304e-4c95-44c5-be35-184949ce760f",
   "metadata": {},
   "outputs": [],
   "source": [
    "x = np.array([[1., 2., 3.], [4., 5., 6.]])"
   ]
  },
  {
   "cell_type": "code",
   "execution_count": 3,
   "id": "61867164-5e08-4cb6-85ce-a24437485b57",
   "metadata": {},
   "outputs": [
    {
     "data": {
      "text/plain": [
       "array([[1., 2., 3.],\n",
       "       [4., 5., 6.]])"
      ]
     },
     "execution_count": 3,
     "metadata": {},
     "output_type": "execute_result"
    }
   ],
   "source": [
    "x"
   ]
  },
  {
   "cell_type": "code",
   "execution_count": 4,
   "id": "785a7574-e1a1-4e18-af40-b17117349f9b",
   "metadata": {},
   "outputs": [],
   "source": [
    "y = np.array([[6., 23.], [-1, 7], [8, 9]])"
   ]
  },
  {
   "cell_type": "code",
   "execution_count": 5,
   "id": "e307a81f-2c86-41d0-b73c-7e225fffb9d9",
   "metadata": {},
   "outputs": [
    {
     "data": {
      "text/plain": [
       "array([[ 6., 23.],\n",
       "       [-1.,  7.],\n",
       "       [ 8.,  9.]])"
      ]
     },
     "execution_count": 5,
     "metadata": {},
     "output_type": "execute_result"
    }
   ],
   "source": [
    "y"
   ]
  },
  {
   "cell_type": "code",
   "execution_count": 6,
   "id": "178b74ba-f711-449d-b342-8b5c4ae3b561",
   "metadata": {},
   "outputs": [
    {
     "data": {
      "text/plain": [
       "array([[ 28.,  64.],\n",
       "       [ 67., 181.]])"
      ]
     },
     "execution_count": 6,
     "metadata": {},
     "output_type": "execute_result"
    }
   ],
   "source": [
    "x.dot(y)"
   ]
  },
  {
   "cell_type": "code",
   "execution_count": 15,
   "id": "c245dbc5-9ab7-4955-b062-88cadd0090fa",
   "metadata": {},
   "outputs": [
    {
     "data": {
      "text/plain": [
       "array([[ 28.,  64.],\n",
       "       [ 67., 181.]])"
      ]
     },
     "execution_count": 15,
     "metadata": {},
     "output_type": "execute_result"
    }
   ],
   "source": [
    "x @ y"
   ]
  },
  {
   "cell_type": "code",
   "execution_count": 7,
   "id": "e461efc9-8c0f-4262-b166-7261755ba365",
   "metadata": {},
   "outputs": [
    {
     "data": {
      "text/plain": [
       "array([[ 28.,  64.],\n",
       "       [ 67., 181.]])"
      ]
     },
     "execution_count": 7,
     "metadata": {},
     "output_type": "execute_result"
    }
   ],
   "source": [
    "np.dot(x, y)"
   ]
  },
  {
   "cell_type": "code",
   "execution_count": 8,
   "id": "81546fa0-fdbb-4350-8fdc-f9653a959fce",
   "metadata": {},
   "outputs": [
    {
     "data": {
      "text/plain": [
       "array([[ 98., 127., 156.],\n",
       "       [ 27.,  33.,  39.],\n",
       "       [ 44.,  61.,  78.]])"
      ]
     },
     "execution_count": 8,
     "metadata": {},
     "output_type": "execute_result"
    }
   ],
   "source": [
    "np.dot(y, x)"
   ]
  },
  {
   "cell_type": "markdown",
   "id": "002259c6-ca34-46d9-acf2-0a4709fedc1f",
   "metadata": {},
   "source": [
    "## 一个二维数组跟一个大小合适的一维数组的矩阵点积运算将会得到一个一维数组。"
   ]
  },
  {
   "cell_type": "code",
   "execution_count": 9,
   "id": "cf1e1b21-eea0-43b3-a161-ec675ec6a7a7",
   "metadata": {},
   "outputs": [
    {
     "data": {
      "text/plain": [
       "array([ 6., 15.])"
      ]
     },
     "execution_count": 9,
     "metadata": {},
     "output_type": "execute_result"
    }
   ],
   "source": [
    "x @ np.ones(3)"
   ]
  },
  {
   "cell_type": "markdown",
   "id": "de99f4e7-737a-4c3d-818d-2e9a0ff6519f",
   "metadata": {},
   "source": [
    "## numpy.linalg中有一组标准的矩阵分解运算以及求逆和求行列式等方法。"
   ]
  },
  {
   "cell_type": "code",
   "execution_count": 10,
   "id": "454db264-9fcf-4189-b37e-5d34dfe5e161",
   "metadata": {},
   "outputs": [],
   "source": [
    "from numpy.linalg import inv, qr"
   ]
  },
  {
   "cell_type": "code",
   "execution_count": 11,
   "id": "e7222edc-ba07-4977-8785-6f837fc5375e",
   "metadata": {},
   "outputs": [],
   "source": [
    "X = rng.standard_normal((5, 5))"
   ]
  },
  {
   "cell_type": "code",
   "execution_count": 12,
   "id": "0a15a261-b65a-4d84-9a41-63dbd4948bc5",
   "metadata": {},
   "outputs": [],
   "source": [
    "mat = X.T @ X"
   ]
  },
  {
   "cell_type": "code",
   "execution_count": 13,
   "id": "54dae831-f897-452a-8abf-27c7804a16a1",
   "metadata": {},
   "outputs": [
    {
     "data": {
      "text/plain": [
       "array([[ 0.15548538, -0.36723081, -0.52638547, -0.2300642 , -0.04646089],\n",
       "       [-0.36723081,  2.54917814,  3.47827334,  1.48196722,  0.22206454],\n",
       "       [-0.52638547,  3.47827334,  5.46389554,  2.46214396,  0.63467543],\n",
       "       [-0.2300642 ,  1.48196722,  2.46214396,  1.38302896,  0.33430132],\n",
       "       [-0.04646089,  0.22206454,  0.63467543,  0.33430132,  0.33879566]])"
      ]
     },
     "execution_count": 13,
     "metadata": {},
     "output_type": "execute_result"
    }
   ],
   "source": [
    "inv(mat)"
   ]
  },
  {
   "cell_type": "code",
   "execution_count": 14,
   "id": "12a6d044-82ae-4aea-8830-89c6ae460228",
   "metadata": {},
   "outputs": [
    {
     "data": {
      "text/plain": [
       "array([[ 1.00000000e+00,  4.99285027e-17, -2.32472626e-16,\n",
       "        -2.35388056e-16, -1.12575057e-18],\n",
       "       [ 1.55867966e-16,  1.00000000e+00,  9.98311990e-17,\n",
       "        -1.96348091e-16, -3.86511231e-16],\n",
       "       [-6.92418622e-17, -7.91606813e-16,  1.00000000e+00,\n",
       "         5.64803789e-16,  1.61057761e-16],\n",
       "       [-2.37101845e-16,  1.84817406e-15,  3.81257497e-15,\n",
       "         1.00000000e+00,  3.71349003e-16],\n",
       "       [ 9.72642079e-17,  2.31009855e-16, -7.19939179e-17,\n",
       "        -4.80724193e-16,  1.00000000e+00]])"
      ]
     },
     "execution_count": 14,
     "metadata": {},
     "output_type": "execute_result"
    }
   ],
   "source": [
    "mat @ inv(mat)"
   ]
  },
  {
   "cell_type": "markdown",
   "id": "879060c3-32c7-4c9d-8d84-6c341c6ab8b0",
   "metadata": {},
   "source": [
    "# 常用的线性代数函数如下表\n",
    "\n",
    "| 函数 | 说明 |\n",
    "|-------|-------|\n",
    "| diag | 以一维数组的形式返回方阵的对角线(或非对角线)元素，或将一维数组转换为方阵(非对角线元素为0) |\n",
    "| top | 矩阵乘法 |\n",
    "| trace | 计算对角线元素的和 |\n",
    "| det | 计算矩阵行列式 |\n",
    "| eig | 计算方阵的特征值和特征向量 |\n",
    "| inv | 计算方阵的逆矩阵 |\n",
    "| pinv | 计算矩阵的 Moore-Penrose 伪逆 |\n",
    "| qr | 计算 QR 分解 |\n",
    "| svd | 计算奇异值分解(SVD) |\n",
    "| solve | 求解 x 的线性系统 Ax = b，其中 A 是方阵 |\n",
    "| lstsq | 计算最小二乘解Ax = b |\n",
    "\n"
   ]
  },
  {
   "cell_type": "code",
   "execution_count": null,
   "id": "9774342a-9e03-4b34-90ef-05ccd51744a6",
   "metadata": {},
   "outputs": [],
   "source": []
  }
 ],
 "metadata": {
  "kernelspec": {
   "display_name": "Python 3 (ipykernel)",
   "language": "python",
   "name": "python3"
  },
  "language_info": {
   "codemirror_mode": {
    "name": "ipython",
    "version": 3
   },
   "file_extension": ".py",
   "mimetype": "text/x-python",
   "name": "python",
   "nbconvert_exporter": "python",
   "pygments_lexer": "ipython3",
   "version": "3.10.15"
  }
 },
 "nbformat": 4,
 "nbformat_minor": 5
}
