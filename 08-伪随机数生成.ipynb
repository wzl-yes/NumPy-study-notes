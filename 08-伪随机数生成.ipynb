{
 "cells": [
  {
   "cell_type": "markdown",
   "id": "8f7500dd-c18d-4f80-a5fc-d57ae0cc5b43",
   "metadata": {},
   "source": [
    "# `np.random.standard_normal(size=(tuple))`可以用来补充内置的Python random模块，可以从正态分布中高效地生成整个样本值数组。"
   ]
  },
  {
   "cell_type": "code",
   "execution_count": 1,
   "id": "d4d0c547-4657-42dd-b3f1-48cfd5b2160b",
   "metadata": {},
   "outputs": [],
   "source": [
    "import numpy as np\n",
    "\n",
    "samples = np.random.standard_normal(size=(4, 4))"
   ]
  },
  {
   "cell_type": "code",
   "execution_count": 2,
   "id": "ea124395-dfcb-48cb-aced-06341e6337cb",
   "metadata": {},
   "outputs": [
    {
     "data": {
      "text/plain": [
       "array([[-1.46924658,  0.51095374,  0.01761964,  2.2163895 ],\n",
       "       [-0.87927577,  1.37182992, -1.44009813, -1.72405217],\n",
       "       [-1.98437248,  1.7256857 ,  0.75319363, -0.2907127 ],\n",
       "       [ 0.66348594,  0.7411612 ,  0.19078624,  0.40545398]])"
      ]
     },
     "execution_count": 2,
     "metadata": {},
     "output_type": "execute_result"
    }
   ],
   "source": [
    "samples"
   ]
  },
  {
   "cell_type": "markdown",
   "id": "5967984f-9aa9-4f7b-937f-def20016299e",
   "metadata": {},
   "source": [
    "## `np.random.standard_normal()`与python`random.normalvariate()`函数生成指定数量的标准正态分布随机数做速度比较。\n"
   ]
  },
  {
   "cell_type": "code",
   "execution_count": 3,
   "id": "0626bd78-0941-4812-905c-cecee3d213bb",
   "metadata": {},
   "outputs": [],
   "source": [
    "from random import normalvariate\n",
    "\n",
    "N = 1_000_000"
   ]
  },
  {
   "cell_type": "code",
   "execution_count": 4,
   "id": "45032e90-bcc9-4c03-8c7a-f41fcee0708c",
   "metadata": {},
   "outputs": [
    {
     "name": "stdout",
     "output_type": "stream",
     "text": [
      "1.95 s ± 214 ms per loop (mean ± std. dev. of 7 runs, 1 loop each)\n"
     ]
    }
   ],
   "source": [
    "%timeit samples = [normalvariate(0, 1) for _ in range(N)]"
   ]
  },
  {
   "cell_type": "code",
   "execution_count": 5,
   "id": "83a89968-fb91-4a00-b5e3-7ee5c59ff9f2",
   "metadata": {},
   "outputs": [
    {
     "name": "stdout",
     "output_type": "stream",
     "text": [
      "42.7 ms ± 1.89 ms per loop (mean ± std. dev. of 7 runs, 10 loops each)\n"
     ]
    }
   ],
   "source": [
    "%timeit np.random.standard_normal(N)"
   ]
  },
  {
   "cell_type": "markdown",
   "id": "2d659fd3-fd9c-45ec-9d90-b8c33a5decc8",
   "metadata": {},
   "source": [
    "# 这些随机数并非真正随机（而是伪随机），而是由一个可配置的随机数生成器生成的，该生成器以确定性方式决定生成哪些值。函数会使用该模块的默认随机数生成器，也可以配置为使用特定的生成器。<br>`rng = np.random.default_rng(seed=12345)`"
   ]
  },
  {
   "cell_type": "code",
   "execution_count": 6,
   "id": "ed1b8555-f03c-4112-be88-2f70e168bdf1",
   "metadata": {},
   "outputs": [],
   "source": [
    "rng = np.random.default_rng(seed=12345)"
   ]
  },
  {
   "cell_type": "code",
   "execution_count": 7,
   "id": "04d3602d-4adb-42ea-977d-f70c08c80d2f",
   "metadata": {},
   "outputs": [],
   "source": [
    "data = rng.standard_normal((2, 3))"
   ]
  },
  {
   "cell_type": "code",
   "execution_count": 8,
   "id": "d917e131-8d89-4d99-a16a-57847b5382d4",
   "metadata": {},
   "outputs": [
    {
     "data": {
      "text/plain": [
       "array([[-1.42382504,  1.26372846, -0.87066174],\n",
       "       [-0.25917323, -0.07534331, -0.74088465]])"
      ]
     },
     "execution_count": 8,
     "metadata": {},
     "output_type": "execute_result"
    }
   ],
   "source": [
    "data"
   ]
  },
  {
   "cell_type": "code",
   "execution_count": 9,
   "id": "7b6c1ab7-9aee-45a5-b952-c1252b60fc0b",
   "metadata": {},
   "outputs": [
    {
     "data": {
      "text/plain": [
       "numpy.random._generator.Generator"
      ]
     },
     "execution_count": 9,
     "metadata": {},
     "output_type": "execute_result"
    }
   ],
   "source": [
    "type(rng)"
   ]
  },
  {
   "cell_type": "markdown",
   "id": "e52e3c71-267c-4583-bb5d-18013e228df1",
   "metadata": {},
   "source": [
    "# NumPy随机数生成器部分方法列表如下\n",
    "\n",
    "| 方法 | 描述 |\n",
    "|-------|-------|\n",
    "| permutation | 返回一个序列的随机排列，或者返回一个排列后的范围 |\n",
    "| shuffle | 原地随机排列一个序列 |\n",
    "| uniform | 从均匀分布中抽取样本 |\n",
    "| integers | 从给定的低到高范围内随机抽取整数 |\n",
    "| standard_normal | 从均值为0、标准差为1的正态分布中抽取样本 |\n",
    "| binomial | 从二项分布中抽取样本 |\n",
    "| normal | 从正态分布（高斯分布）中抽取样本 |\n",
    "| beta | 从贝塔分布中抽取样本 |\n",
    "| chisquare | 从卡方分布中抽取样本 |\n",
    "| gamma | 从伽马分布中抽取样本 |\n",
    "| uniform | 从均匀[0, 1)分布中抽取样本 |"
   ]
  },
  {
   "cell_type": "code",
   "execution_count": 10,
   "id": "70ef5cbf-8d7c-483e-975d-8b5614142dd9",
   "metadata": {},
   "outputs": [
    {
     "data": {
      "text/plain": [
       "array([[0.59830875, 0.18673419, 0.67275604, 0.94180287, 0.24824571],\n",
       "       [0.94888115, 0.66723745, 0.09589794, 0.44183967, 0.88647992],\n",
       "       [0.6974535 , 0.32647286, 0.73392816, 0.22013496, 0.08159457],\n",
       "       [0.1598956 , 0.34010018, 0.46519315, 0.26642103, 0.8157764 ],\n",
       "       [0.19329439, 0.12946908, 0.09166475, 0.59856801, 0.8547419 ]])"
      ]
     },
     "execution_count": 10,
     "metadata": {},
     "output_type": "execute_result"
    }
   ],
   "source": [
    "rng.uniform(size=(5,5))"
   ]
  },
  {
   "cell_type": "code",
   "execution_count": 11,
   "id": "3995ffe3-5436-4a9b-a1a0-95f3ea1355f8",
   "metadata": {},
   "outputs": [
    {
     "data": {
      "text/plain": [
       "array([[ 0.8286332 , -0.95898831, -1.20938829, -1.41229201],\n",
       "       [ 0.54154683,  0.7519394 , -0.65876032, -1.22867499],\n",
       "       [ 0.25755777,  0.31290292, -0.13081169,  1.26998312],\n",
       "       [-0.09296246, -0.06615089, -1.10821447,  0.13595685]])"
      ]
     },
     "execution_count": 11,
     "metadata": {},
     "output_type": "execute_result"
    }
   ],
   "source": [
    "rng.normal(size=(4,4))"
   ]
  },
  {
   "cell_type": "code",
   "execution_count": 12,
   "id": "0e87251c-6768-4d88-925d-16e15ec6fd65",
   "metadata": {},
   "outputs": [],
   "source": [
    "a = rng.integers(1,10,size=(4,5))"
   ]
  },
  {
   "cell_type": "code",
   "execution_count": 13,
   "id": "e0aef5bd-6076-43b5-a636-71597484828c",
   "metadata": {},
   "outputs": [
    {
     "data": {
      "text/plain": [
       "array([[8, 4, 1, 1, 1],\n",
       "       [6, 4, 3, 6, 1],\n",
       "       [5, 6, 1, 2, 4],\n",
       "       [3, 9, 4, 6, 2]])"
      ]
     },
     "execution_count": 13,
     "metadata": {},
     "output_type": "execute_result"
    }
   ],
   "source": [
    "a"
   ]
  },
  {
   "cell_type": "code",
   "execution_count": 15,
   "id": "de9afbe1-ccb8-4f12-b7d0-984a6b7cfbb7",
   "metadata": {},
   "outputs": [],
   "source": [
    "rng.shuffle(a)"
   ]
  },
  {
   "cell_type": "code",
   "execution_count": 16,
   "id": "39a1bd13-6192-4bf3-b2a5-94ad299a3b09",
   "metadata": {},
   "outputs": [
    {
     "data": {
      "text/plain": [
       "array([[8, 4, 1, 1, 1],\n",
       "       [5, 6, 1, 2, 4],\n",
       "       [3, 9, 4, 6, 2],\n",
       "       [6, 4, 3, 6, 1]])"
      ]
     },
     "execution_count": 16,
     "metadata": {},
     "output_type": "execute_result"
    }
   ],
   "source": [
    "a"
   ]
  },
  {
   "cell_type": "code",
   "execution_count": null,
   "id": "a77920bb-564f-4340-90ef-f79da3c9e6a9",
   "metadata": {},
   "outputs": [],
   "source": []
  }
 ],
 "metadata": {
  "kernelspec": {
   "display_name": "Python 3 (ipykernel)",
   "language": "python",
   "name": "python3"
  },
  "language_info": {
   "codemirror_mode": {
    "name": "ipython",
    "version": 3
   },
   "file_extension": ".py",
   "mimetype": "text/x-python",
   "name": "python",
   "nbconvert_exporter": "python",
   "pygments_lexer": "ipython3",
   "version": "3.10.15"
  }
 },
 "nbformat": 4,
 "nbformat_minor": 5
}
