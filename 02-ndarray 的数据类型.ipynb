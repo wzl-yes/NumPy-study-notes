{
 "cells": [
  {
   "cell_type": "markdown",
   "id": "dec0fe79-0da9-44cb-8d2d-aceaa00cdbb3",
   "metadata": {},
   "source": [
    "# 直接指定ndarray数据类型np.array(list, `dtype=np.float64`)"
   ]
  },
  {
   "cell_type": "code",
   "execution_count": 2,
   "id": "8fa28f47-0278-4033-8e3a-755368032ec1",
   "metadata": {},
   "outputs": [],
   "source": [
    "import numpy as np\n",
    "\n",
    "arr1 = np.array([1, 2, 3], dtype=np.float64)\n",
    "\n",
    "arr2 = np.array([1, 2, 3], dtype=np.int32)"
   ]
  },
  {
   "cell_type": "code",
   "execution_count": 3,
   "id": "51d00726-8593-4557-a512-5e1326850f0d",
   "metadata": {},
   "outputs": [
    {
     "data": {
      "text/plain": [
       "dtype('float64')"
      ]
     },
     "execution_count": 3,
     "metadata": {},
     "output_type": "execute_result"
    }
   ],
   "source": [
    "arr1.dtype"
   ]
  },
  {
   "cell_type": "code",
   "execution_count": 4,
   "id": "0637331c-ceed-444d-bfb2-4415966ae31f",
   "metadata": {},
   "outputs": [
    {
     "data": {
      "text/plain": [
       "dtype('int32')"
      ]
     },
     "execution_count": 4,
     "metadata": {},
     "output_type": "execute_result"
    }
   ],
   "source": [
    "arr2.dtype"
   ]
  },
  {
   "cell_type": "markdown",
   "id": "bc0d31e1-9881-4638-a2f7-c4f2f5eaa0f0",
   "metadata": {},
   "source": [
    "# NumPy支持的数据类型的完整列表如下\n",
    "\n",
    "| 类型 | 类型代码 | 描述 |\n",
    "|-------|-------|-------|\n",
    "| int8, uint8 | i1, u1 | 有符号和无符号的8位（1字节）整数类型 |\n",
    "| int16, uint16 | i2, u2 | 有符号和无符号的16位整数类型 |\n",
    "| int32, uint32 | i4, u4 | 有符号和无符号的32位整数类型 |\n",
    "| int64, uint64 | i8, u8 | 有符号和无符号的64位整数类型 |\n",
    "| float16 | f2 | 半精度浮点数 |\n",
    "| float32 | f4 or f | 标准单精度浮点；与C语言中的float类型兼容 |\n",
    "| float64 | f8 or d | 标准双精度浮点；与C语言的double类型和Python的对象浮点类型兼容 |\n",
    "| float128 | f16 or g | 扩展精度浮点数 |\n",
    "| complex64,<br> complex128,<br> complex256 | c8, c16, c32 | 分别由两个32位、64位或128位浮点数表示的复数 |\n",
    "| bool | ? | 布尔类型存储及值：True False |\n",
    "| object | O | Python 对象类型；值可以是任何 Python 对象 |\n",
    "| ~~string_~~<br>str_ | S | 定长ASCII字符串类型（每个字符1字节）；例如，要创建一个长度为10的字符串数据类型，使用'S10' |\n",
    "| unicode_ | U | 定长Unicode类型（字节数平台特定）；与（例如，string_'U10'）具有相同的规范语义 |\n",
    "\n",
    "有符号整数可以表示正整数和负整数，而无符号整数只能表示非零整数。例如，（有符号 8 位整数）可以表示从 -128 到 127（含）的整数，而（无符号 8 位整数）可以表示 0 到 255。"
   ]
  },
  {
   "cell_type": "code",
   "execution_count": 63,
   "id": "1ec14d77-5fd9-4c99-adcb-10f43ff20fec",
   "metadata": {},
   "outputs": [
    {
     "data": {
      "text/plain": [
       "array([False,  True,  True,  True, False,  True, False])"
      ]
     },
     "execution_count": 63,
     "metadata": {},
     "output_type": "execute_result"
    }
   ],
   "source": [
    "np.array([0, 1, 2, 3, 0, 9, 0], dtype=np.bool)"
   ]
  },
  {
   "cell_type": "code",
   "execution_count": 64,
   "id": "fdbe97e0-89cc-4e10-97f6-400f26604343",
   "metadata": {},
   "outputs": [
    {
     "data": {
      "text/plain": [
       "array([False,  True,  True,  True, False,  True, False])"
      ]
     },
     "execution_count": 64,
     "metadata": {},
     "output_type": "execute_result"
    }
   ],
   "source": [
    "np.array([0, 1, 2, 3, 0, 9, 0], dtype='?')"
   ]
  },
  {
   "cell_type": "code",
   "execution_count": 68,
   "id": "4fbc4190-603f-4221-9807-e24cf4ef8634",
   "metadata": {},
   "outputs": [
    {
     "data": {
      "text/plain": [
       "array([b'0', b'1', b'2', b'3', b'0', b'9', b'0'], dtype='|S1')"
      ]
     },
     "execution_count": 68,
     "metadata": {},
     "output_type": "execute_result"
    }
   ],
   "source": [
    "np.array([0, 1, 2, 3, 0, 9, 0], dtype='S1')"
   ]
  },
  {
   "cell_type": "code",
   "execution_count": 78,
   "id": "61a4a0c6-6f16-4a1e-8fff-7ce4e96c0614",
   "metadata": {},
   "outputs": [
    {
     "data": {
      "text/plain": [
       "array([b'1', b'4'], dtype='|S1')"
      ]
     },
     "execution_count": 78,
     "metadata": {},
     "output_type": "execute_result"
    }
   ],
   "source": [
    "np.array(['123', '456'], dtype='S1')    #固定长度的 ASCII 字符串类型，使用该类型时要小心，因为 NumPy 中的字符串数据是固定大小的，并且可能会在没有警告的情况下截断输入"
   ]
  },
  {
   "cell_type": "code",
   "execution_count": 79,
   "id": "9946cc69-cb3b-473d-baab-ec3b81327829",
   "metadata": {},
   "outputs": [
    {
     "data": {
      "text/plain": [
       "array(['0', '1', '2', '3', '0', '9', '0'], dtype='<U1')"
      ]
     },
     "execution_count": 79,
     "metadata": {},
     "output_type": "execute_result"
    }
   ],
   "source": [
    "np.array([0, 12, 2, 3, 0, 9, 0], dtype='U1')"
   ]
  },
  {
   "cell_type": "code",
   "execution_count": 80,
   "id": "63d83db1-cc55-4559-8b3c-2ed2aaff340d",
   "metadata": {},
   "outputs": [
    {
     "data": {
      "text/plain": [
       "array(['你', '世'], dtype='<U1')"
      ]
     },
     "execution_count": 80,
     "metadata": {},
     "output_type": "execute_result"
    }
   ],
   "source": [
    "np.array(['你好', '世界'] , dtype='U1')    #固定长度的 Unicode 类型，使用该类型时要小心，因为 NumPy 中的字符串数据是固定大小的，并且可能会在没有警告的情况下截断输入"
   ]
  },
  {
   "cell_type": "code",
   "execution_count": 81,
   "id": "f81e5914-61aa-4255-a6e4-260d689ed872",
   "metadata": {},
   "outputs": [
    {
     "data": {
      "text/plain": [
       "array([0, 1, 2, 3, 0, 9, 0], dtype=object)"
      ]
     },
     "execution_count": 81,
     "metadata": {},
     "output_type": "execute_result"
    }
   ],
   "source": [
    "np.array([0, 1, 2, 3, 0, 9, 0], dtype='O')"
   ]
  },
  {
   "cell_type": "code",
   "execution_count": 82,
   "id": "a9a8e9e3-4d2c-4201-aba8-7331ebb3c8dd",
   "metadata": {},
   "outputs": [
    {
     "data": {
      "text/plain": [
       "array([b'0', b'1', b'4', b'6', b'0', b'9', b'0'], dtype='|S1')"
      ]
     },
     "execution_count": 82,
     "metadata": {},
     "output_type": "execute_result"
    }
   ],
   "source": [
    "np.array([0, 123, 4567, 6, 0, 9, 0], dtype='S1')"
   ]
  },
  {
   "cell_type": "markdown",
   "id": "3c03bb7f-2ed5-45fd-b7c7-07449655f7c3",
   "metadata": {},
   "source": [
    "# 将数组的数据转换为其它数据类型 `数组.astype(np.float64)`\n",
    "即使新的数据类型与旧的数据类型相同，调用.astype（）（函数或方法）总是会创建一个新的数组（数据的副本）\n",
    "## 整数被强制转换为浮点数"
   ]
  },
  {
   "cell_type": "code",
   "execution_count": 5,
   "id": "60dbed26-07ee-4c9f-9a94-d567153f6f1a",
   "metadata": {},
   "outputs": [],
   "source": [
    "arr = np.array([1, 2, 3, 4, 5])"
   ]
  },
  {
   "cell_type": "code",
   "execution_count": 6,
   "id": "80c0510a-02af-4de1-ab69-c5513e161b0f",
   "metadata": {},
   "outputs": [
    {
     "data": {
      "text/plain": [
       "dtype('int64')"
      ]
     },
     "execution_count": 6,
     "metadata": {},
     "output_type": "execute_result"
    }
   ],
   "source": [
    "arr.dtype"
   ]
  },
  {
   "cell_type": "code",
   "execution_count": 8,
   "id": "966bffa6-a0e9-4f7d-a127-a1c163899bbb",
   "metadata": {},
   "outputs": [],
   "source": [
    "float_arr = arr.astype(np.float64)"
   ]
  },
  {
   "cell_type": "code",
   "execution_count": 9,
   "id": "80f15e12-4499-46c2-ab30-022388e37b0a",
   "metadata": {},
   "outputs": [
    {
     "data": {
      "text/plain": [
       "array([1., 2., 3., 4., 5.])"
      ]
     },
     "execution_count": 9,
     "metadata": {},
     "output_type": "execute_result"
    }
   ],
   "source": [
    "float_arr"
   ]
  },
  {
   "cell_type": "code",
   "execution_count": 10,
   "id": "69cdbe60-7991-4dae-8a53-65c87964c564",
   "metadata": {},
   "outputs": [
    {
     "data": {
      "text/plain": [
       "dtype('float64')"
      ]
     },
     "execution_count": 10,
     "metadata": {},
     "output_type": "execute_result"
    }
   ],
   "source": [
    "float_arr.dtype"
   ]
  },
  {
   "cell_type": "markdown",
   "id": "75845b4e-fbb4-4812-b1b2-bb1d252aec10",
   "metadata": {},
   "source": [
    "## 浮点数强制转换为整数数据类型，则小数部分将被截断"
   ]
  },
  {
   "cell_type": "code",
   "execution_count": 11,
   "id": "96f54d2a-a673-40a5-a44e-ea7c256f1705",
   "metadata": {},
   "outputs": [],
   "source": [
    "arr = np.array([3.7, -1.2, -2.6, 0.5, 12.9, 10.1])"
   ]
  },
  {
   "cell_type": "code",
   "execution_count": 12,
   "id": "bb5b5f25-f545-4604-aee6-b9d49b06e27a",
   "metadata": {},
   "outputs": [
    {
     "data": {
      "text/plain": [
       "array([ 3.7, -1.2, -2.6,  0.5, 12.9, 10.1])"
      ]
     },
     "execution_count": 12,
     "metadata": {},
     "output_type": "execute_result"
    }
   ],
   "source": [
    "arr"
   ]
  },
  {
   "cell_type": "code",
   "execution_count": 13,
   "id": "b2b00533-2759-4c64-a986-700e273bc30a",
   "metadata": {},
   "outputs": [
    {
     "data": {
      "text/plain": [
       "array([ 3, -1, -2,  0, 12, 10], dtype=int32)"
      ]
     },
     "execution_count": 13,
     "metadata": {},
     "output_type": "execute_result"
    }
   ],
   "source": [
    "arr.astype(np.int32)"
   ]
  },
  {
   "cell_type": "markdown",
   "id": "e8c8b4e2-46a4-4934-b8a4-0071fbeacc5b",
   "metadata": {},
   "source": [
    "## 表示数字的字符串数组，可以转换为数字形式"
   ]
  },
  {
   "cell_type": "code",
   "execution_count": 39,
   "id": "6c23d3e1-88eb-4e9f-9152-34854a050b73",
   "metadata": {},
   "outputs": [],
   "source": [
    "numeric_strings = np.array([\"1.25\", \"-9.6\", \"42\"], dtype=np.str_)    #np.string_ 已经被弃用，建议使用 np.str_ 或者 Python 3 中的 str 类型"
   ]
  },
  {
   "cell_type": "code",
   "execution_count": 43,
   "id": "2ba2c359-7561-4191-b761-f969ddf9e804",
   "metadata": {},
   "outputs": [],
   "source": [
    "# numeric_strings = np.array([\"1.25\", \"-9.6\", \"42\"], dtype=str) "
   ]
  },
  {
   "cell_type": "code",
   "execution_count": 44,
   "id": "72c581eb-37b3-415b-a108-efc6596feb45",
   "metadata": {},
   "outputs": [],
   "source": [
    "# numeric_strings = np.array([\"1.25\", \"-9.6\", \"42\"], dtype='S10')"
   ]
  },
  {
   "cell_type": "code",
   "execution_count": 45,
   "id": "d17711f9-3e7d-44ef-b709-cd6fdb86fd0d",
   "metadata": {},
   "outputs": [
    {
     "data": {
      "text/plain": [
       "array(['1.25', '-9.6', '42'], dtype='<U4')"
      ]
     },
     "execution_count": 45,
     "metadata": {},
     "output_type": "execute_result"
    }
   ],
   "source": [
    "numeric_strings"
   ]
  },
  {
   "cell_type": "code",
   "execution_count": 46,
   "id": "b6b9b1b8-3f8f-4c16-80d0-d1f09a88a463",
   "metadata": {},
   "outputs": [
    {
     "data": {
      "text/plain": [
       "array([ 1.25, -9.6 , 42.  ])"
      ]
     },
     "execution_count": 46,
     "metadata": {},
     "output_type": "execute_result"
    }
   ],
   "source": [
    "numeric_strings.astype(float)    #用float代替了np.float64；NumPy将Python类型别名为其自己的等效数据类型。"
   ]
  },
  {
   "cell_type": "code",
   "execution_count": 47,
   "id": "5a6eac2b-cb5b-46cb-b272-1056ebd615e0",
   "metadata": {},
   "outputs": [
    {
     "data": {
      "text/plain": [
       "array([ 1.25, -9.6 , 42.  ])"
      ]
     },
     "execution_count": 47,
     "metadata": {},
     "output_type": "execute_result"
    }
   ],
   "source": [
    "numeric_strings.astype(np.float64)"
   ]
  },
  {
   "cell_type": "markdown",
   "id": "be2d851b-ebf5-47ce-8482-429ab7eaa19a",
   "metadata": {},
   "source": [
    "## 也可以使用另一个数组的属性`.dtype`"
   ]
  },
  {
   "cell_type": "code",
   "execution_count": 48,
   "id": "8bf129ed-67fe-46e7-9abd-37e87f4d841e",
   "metadata": {},
   "outputs": [],
   "source": [
    "int_array = np.arange(10)"
   ]
  },
  {
   "cell_type": "code",
   "execution_count": 49,
   "id": "6ac6f428-7845-4791-ab9f-95f795c0b891",
   "metadata": {},
   "outputs": [],
   "source": [
    "calibers = np.array([.22, .270, .357, .380, .44, .50], dtype=np.float64)"
   ]
  },
  {
   "cell_type": "code",
   "execution_count": 50,
   "id": "26f4f54f-7308-4dcf-8683-4a392745ae06",
   "metadata": {},
   "outputs": [
    {
     "data": {
      "text/plain": [
       "array([0., 1., 2., 3., 4., 5., 6., 7., 8., 9.])"
      ]
     },
     "execution_count": 50,
     "metadata": {},
     "output_type": "execute_result"
    }
   ],
   "source": [
    "int_array.astype(calibers.dtype)"
   ]
  },
  {
   "cell_type": "markdown",
   "id": "ed6dce64-c2db-44e6-87c7-f21b48209860",
   "metadata": {},
   "source": [
    "## 使用类型代码，有速记类型的代码字符串，也可以用它来引用"
   ]
  },
  {
   "cell_type": "code",
   "execution_count": 51,
   "id": "e8c0aa91-04b8-4b35-8b79-5252cdeb242b",
   "metadata": {},
   "outputs": [],
   "source": [
    "zeros_uint32 = np.zeros(8, dtype=\"u4\")"
   ]
  },
  {
   "cell_type": "code",
   "execution_count": 52,
   "id": "0049d200-1f19-4091-afe8-40e59eec3552",
   "metadata": {},
   "outputs": [
    {
     "data": {
      "text/plain": [
       "array([0, 0, 0, 0, 0, 0, 0, 0], dtype=uint32)"
      ]
     },
     "execution_count": 52,
     "metadata": {},
     "output_type": "execute_result"
    }
   ],
   "source": [
    "zeros_uint32"
   ]
  }
 ],
 "metadata": {
  "kernelspec": {
   "display_name": "Python 3 (ipykernel)",
   "language": "python",
   "name": "python3"
  },
  "language_info": {
   "codemirror_mode": {
    "name": "ipython",
    "version": 3
   },
   "file_extension": ".py",
   "mimetype": "text/x-python",
   "name": "python",
   "nbconvert_exporter": "python",
   "pygments_lexer": "ipython3",
   "version": "3.10.15"
  }
 },
 "nbformat": 4,
 "nbformat_minor": 5
}
